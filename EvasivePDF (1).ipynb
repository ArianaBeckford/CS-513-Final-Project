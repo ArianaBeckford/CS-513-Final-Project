{
  "nbformat": 4,
  "nbformat_minor": 0,
  "metadata": {
    "colab": {
      "provenance": []
    },
    "kernelspec": {
      "name": "python3",
      "display_name": "Python 3"
    },
    "language_info": {
      "name": "python"
    }
  },
  "cells": [
    {
      "cell_type": "markdown",
      "source": [
        "# Google Drive Mount"
      ],
      "metadata": {
        "id": "77YJV-QFgyWS"
      }
    },
    {
      "cell_type": "code",
      "source": [
        "from google.colab import drive\n",
        "drive.mount('/content/drive')"
      ],
      "metadata": {
        "id": "LWHdcaLEg0H6",
        "colab": {
          "base_uri": "https://localhost:8080/"
        },
        "outputId": "d603676b-3935-4b34-f67f-4af942ad66ed"
      },
      "execution_count": null,
      "outputs": [
        {
          "output_type": "stream",
          "name": "stdout",
          "text": [
            "Drive already mounted at /content/drive; to attempt to forcibly remount, call drive.mount(\"/content/drive\", force_remount=True).\n"
          ]
        }
      ]
    },
    {
      "cell_type": "markdown",
      "source": [
        "#Libraries\n"
      ],
      "metadata": {
        "id": "4G-IT4sxptUo"
      }
    },
    {
      "cell_type": "code",
      "source": [
        "import pandas as pd\n",
        "import numpy as np\n",
        "import seaborn as sns\n",
        "import matplotlib.pyplot as plt\n",
        "from sklearn.model_selection import train_test_split\n",
        "from sklearn.preprocessing import LabelEncoder\n",
        "from sklearn.neighbors import KNeighborsClassifier #KNN\n",
        "from sklearn.naive_bayes import GaussianNB, MultinomialNB, CategoricalNB, BernoulliNB #Naive Bayes\n",
        "from sklearn.tree import DecisionTreeClassifier #CART\n",
        "from sklearn.metrics import accuracy_score, classification_report, confusion_matrix\n",
        "from sklearn.ensemble import RandomForestClassifier #Random Forest\n",
        "from sklearn.preprocessing import StandardScaler\n",
        "from sklearn.svm import SVC #SVM\n",
        "from sklearn.linear_model import LogisticRegression #Logistic Regression\n"
      ],
      "metadata": {
        "id": "6zNaXcAEpxKt"
      },
      "execution_count": null,
      "outputs": []
    },
    {
      "cell_type": "markdown",
      "source": [
        "#Load Dataset"
      ],
      "metadata": {
        "id": "n1QoofYBp79l"
      }
    },
    {
      "cell_type": "code",
      "source": [
        "df = pd.read_csv('/content/drive/MyDrive/Evasive-PDF-Samples.csv')\n",
        "\n",
        "#df = pd.read_csv(Evasive-PDF-Samples.csv)"
      ],
      "metadata": {
        "id": "3gJtU60A7ZO3"
      },
      "execution_count": null,
      "outputs": []
    },
    {
      "cell_type": "code",
      "source": [
        "df = df.dropna()\n",
        "print(df[df.isna().any(axis=1)]) # shows NaN values in data frame if it exists"
      ],
      "metadata": {
        "colab": {
          "base_uri": "https://localhost:8080/"
        },
        "id": "njRmbpy9TErL",
        "outputId": "8b98b546-2d38-4583-9d37-da0347967b1f"
      },
      "execution_count": null,
      "outputs": [
        {
          "output_type": "stream",
          "name": "stdout",
          "text": [
            "Empty DataFrame\n",
            "Columns: [pdfsize, pages, title characters, images, obj, endobj, stream, endstream, xref, trailer, startxref, ObjStm, JS, OBS_JS, Javascript, OBS_Javascript, OpenAction, OBS_OpenAction, Acroform, OBS_Acroform, class]\n",
            "Index: []\n",
            "\n",
            "[0 rows x 21 columns]\n"
          ]
        }
      ]
    },
    {
      "cell_type": "code",
      "source": [
        "df['class'] = df['class'].map({0: 'Benign', 1: 'Malicious'}).fillna(df['class'])\n",
        "#map benign and malicious to samples based on class number"
      ],
      "metadata": {
        "id": "OEKUW9VAmTf2"
      },
      "execution_count": null,
      "outputs": []
    },
    {
      "cell_type": "markdown",
      "source": [
        "# EDA (Exploratory Data Analysis)"
      ],
      "metadata": {
        "id": "Spc4yvpZFlUZ"
      }
    },
    {
      "cell_type": "code",
      "source": [
        "df.dtypes"
      ],
      "metadata": {
        "id": "nifCH5t2FwCz",
        "colab": {
          "base_uri": "https://localhost:8080/"
        },
        "outputId": "e36dc1d7-eb59-4f1f-da28-7d279badb7d7"
      },
      "execution_count": null,
      "outputs": [
        {
          "output_type": "execute_result",
          "data": {
            "text/plain": [
              "pdfsize             float64\n",
              "pages                 int64\n",
              "title characters      int64\n",
              "images                int64\n",
              "obj                   int64\n",
              "endobj                int64\n",
              "stream                int64\n",
              "endstream             int64\n",
              "xref                  int64\n",
              "trailer               int64\n",
              "startxref             int64\n",
              "ObjStm                int64\n",
              "JS                    int64\n",
              "OBS_JS                int64\n",
              "Javascript            int64\n",
              "OBS_Javascript        int64\n",
              "OpenAction            int64\n",
              "OBS_OpenAction        int64\n",
              "Acroform              int64\n",
              "OBS_Acroform          int64\n",
              "class                object\n",
              "dtype: object"
            ]
          },
          "metadata": {},
          "execution_count": 8
        }
      ]
    },
    {
      "cell_type": "code",
      "source": [
        "df.describe()"
      ],
      "metadata": {
        "colab": {
          "base_uri": "https://localhost:8080/",
          "height": 337
        },
        "id": "tCv8zK97AV4v",
        "outputId": "77a9621c-8b8c-4e92-da5d-4aa3e5559275"
      },
      "execution_count": null,
      "outputs": [
        {
          "output_type": "execute_result",
          "data": {
            "text/plain": [
              "             pdfsize          pages  title characters         images  \\\n",
              "count  500000.000000  500000.000000     500000.000000  500000.000000   \n",
              "mean      563.363772      55.101686          5.617004       1.041594   \n",
              "std       280.213763      30.233062          6.501397       0.734654   \n",
              "min         0.000000       0.000000          0.000000       0.000000   \n",
              "25%       585.864250      67.000000          0.000000       1.000000   \n",
              "50%       657.841000      68.000000          4.000000       1.000000   \n",
              "75%       708.503250      69.000000          9.000000       2.000000   \n",
              "max      1761.042000     287.000000        267.000000      18.000000   \n",
              "\n",
              "                 obj         endobj         stream      endstream  \\\n",
              "count  500000.000000  500000.000000  500000.000000  500000.000000   \n",
              "mean      273.595072     273.472290      95.115512      95.331500   \n",
              "std       142.333280     142.734185      51.683914      52.094421   \n",
              "min         0.000000       0.000000       0.000000       0.000000   \n",
              "25%       266.000000     266.000000      85.000000      87.000000   \n",
              "50%       346.000000     345.000000     123.000000     122.000000   \n",
              "75%       355.000000     354.000000     126.000000     126.000000   \n",
              "max       760.000000     760.000000     254.000000     254.000000   \n",
              "\n",
              "                xref        trailer      startxref         ObjStm  \\\n",
              "count  500000.000000  500000.000000  500000.000000  500000.000000   \n",
              "mean        0.969714       1.001358       0.997758       0.008572   \n",
              "std         0.263349       0.244811       0.198658       0.198168   \n",
              "min         0.000000       0.000000       0.000000       0.000000   \n",
              "25%         1.000000       1.000000       1.000000       0.000000   \n",
              "50%         1.000000       1.000000       1.000000       0.000000   \n",
              "75%         1.000000       1.000000       1.000000       0.000000   \n",
              "max         3.000000       3.000000       4.000000      15.000000   \n",
              "\n",
              "                  JS    OBS_JS     Javascript  OBS_Javascript     OpenAction  \\\n",
              "count  500000.000000  500000.0  500000.000000        500000.0  500000.000000   \n",
              "mean        0.873134       0.0       0.795662             0.0       0.436600   \n",
              "std         0.547981       0.0       0.416932             0.0       0.495965   \n",
              "min         0.000000       0.0       0.000000             0.0       0.000000   \n",
              "25%         1.000000       0.0       1.000000             0.0       0.000000   \n",
              "50%         1.000000       0.0       1.000000             0.0       0.000000   \n",
              "75%         1.000000       0.0       1.000000             0.0       1.000000   \n",
              "max         3.000000       0.0       5.000000             0.0       1.000000   \n",
              "\n",
              "       OBS_OpenAction       Acroform  OBS_Acroform  \n",
              "count        500000.0  500000.000000      500000.0  \n",
              "mean              0.0       0.887564           0.0  \n",
              "std               0.0       0.519314           0.0  \n",
              "min               0.0       0.000000           0.0  \n",
              "25%               0.0       1.000000           0.0  \n",
              "50%               0.0       1.000000           0.0  \n",
              "75%               0.0       1.000000           0.0  \n",
              "max               0.0       2.000000           0.0  "
            ],
            "text/html": [
              "\n",
              "  <div id=\"df-05901494-e898-4ba6-a302-fa87afb2b630\" class=\"colab-df-container\">\n",
              "    <div>\n",
              "<style scoped>\n",
              "    .dataframe tbody tr th:only-of-type {\n",
              "        vertical-align: middle;\n",
              "    }\n",
              "\n",
              "    .dataframe tbody tr th {\n",
              "        vertical-align: top;\n",
              "    }\n",
              "\n",
              "    .dataframe thead th {\n",
              "        text-align: right;\n",
              "    }\n",
              "</style>\n",
              "<table border=\"1\" class=\"dataframe\">\n",
              "  <thead>\n",
              "    <tr style=\"text-align: right;\">\n",
              "      <th></th>\n",
              "      <th>pdfsize</th>\n",
              "      <th>pages</th>\n",
              "      <th>title characters</th>\n",
              "      <th>images</th>\n",
              "      <th>obj</th>\n",
              "      <th>endobj</th>\n",
              "      <th>stream</th>\n",
              "      <th>endstream</th>\n",
              "      <th>xref</th>\n",
              "      <th>trailer</th>\n",
              "      <th>startxref</th>\n",
              "      <th>ObjStm</th>\n",
              "      <th>JS</th>\n",
              "      <th>OBS_JS</th>\n",
              "      <th>Javascript</th>\n",
              "      <th>OBS_Javascript</th>\n",
              "      <th>OpenAction</th>\n",
              "      <th>OBS_OpenAction</th>\n",
              "      <th>Acroform</th>\n",
              "      <th>OBS_Acroform</th>\n",
              "    </tr>\n",
              "  </thead>\n",
              "  <tbody>\n",
              "    <tr>\n",
              "      <th>count</th>\n",
              "      <td>500000.000000</td>\n",
              "      <td>500000.000000</td>\n",
              "      <td>500000.000000</td>\n",
              "      <td>500000.000000</td>\n",
              "      <td>500000.000000</td>\n",
              "      <td>500000.000000</td>\n",
              "      <td>500000.000000</td>\n",
              "      <td>500000.000000</td>\n",
              "      <td>500000.000000</td>\n",
              "      <td>500000.000000</td>\n",
              "      <td>500000.000000</td>\n",
              "      <td>500000.000000</td>\n",
              "      <td>500000.000000</td>\n",
              "      <td>500000.0</td>\n",
              "      <td>500000.000000</td>\n",
              "      <td>500000.0</td>\n",
              "      <td>500000.000000</td>\n",
              "      <td>500000.0</td>\n",
              "      <td>500000.000000</td>\n",
              "      <td>500000.0</td>\n",
              "    </tr>\n",
              "    <tr>\n",
              "      <th>mean</th>\n",
              "      <td>563.363772</td>\n",
              "      <td>55.101686</td>\n",
              "      <td>5.617004</td>\n",
              "      <td>1.041594</td>\n",
              "      <td>273.595072</td>\n",
              "      <td>273.472290</td>\n",
              "      <td>95.115512</td>\n",
              "      <td>95.331500</td>\n",
              "      <td>0.969714</td>\n",
              "      <td>1.001358</td>\n",
              "      <td>0.997758</td>\n",
              "      <td>0.008572</td>\n",
              "      <td>0.873134</td>\n",
              "      <td>0.0</td>\n",
              "      <td>0.795662</td>\n",
              "      <td>0.0</td>\n",
              "      <td>0.436600</td>\n",
              "      <td>0.0</td>\n",
              "      <td>0.887564</td>\n",
              "      <td>0.0</td>\n",
              "    </tr>\n",
              "    <tr>\n",
              "      <th>std</th>\n",
              "      <td>280.213763</td>\n",
              "      <td>30.233062</td>\n",
              "      <td>6.501397</td>\n",
              "      <td>0.734654</td>\n",
              "      <td>142.333280</td>\n",
              "      <td>142.734185</td>\n",
              "      <td>51.683914</td>\n",
              "      <td>52.094421</td>\n",
              "      <td>0.263349</td>\n",
              "      <td>0.244811</td>\n",
              "      <td>0.198658</td>\n",
              "      <td>0.198168</td>\n",
              "      <td>0.547981</td>\n",
              "      <td>0.0</td>\n",
              "      <td>0.416932</td>\n",
              "      <td>0.0</td>\n",
              "      <td>0.495965</td>\n",
              "      <td>0.0</td>\n",
              "      <td>0.519314</td>\n",
              "      <td>0.0</td>\n",
              "    </tr>\n",
              "    <tr>\n",
              "      <th>min</th>\n",
              "      <td>0.000000</td>\n",
              "      <td>0.000000</td>\n",
              "      <td>0.000000</td>\n",
              "      <td>0.000000</td>\n",
              "      <td>0.000000</td>\n",
              "      <td>0.000000</td>\n",
              "      <td>0.000000</td>\n",
              "      <td>0.000000</td>\n",
              "      <td>0.000000</td>\n",
              "      <td>0.000000</td>\n",
              "      <td>0.000000</td>\n",
              "      <td>0.000000</td>\n",
              "      <td>0.000000</td>\n",
              "      <td>0.0</td>\n",
              "      <td>0.000000</td>\n",
              "      <td>0.0</td>\n",
              "      <td>0.000000</td>\n",
              "      <td>0.0</td>\n",
              "      <td>0.000000</td>\n",
              "      <td>0.0</td>\n",
              "    </tr>\n",
              "    <tr>\n",
              "      <th>25%</th>\n",
              "      <td>585.864250</td>\n",
              "      <td>67.000000</td>\n",
              "      <td>0.000000</td>\n",
              "      <td>1.000000</td>\n",
              "      <td>266.000000</td>\n",
              "      <td>266.000000</td>\n",
              "      <td>85.000000</td>\n",
              "      <td>87.000000</td>\n",
              "      <td>1.000000</td>\n",
              "      <td>1.000000</td>\n",
              "      <td>1.000000</td>\n",
              "      <td>0.000000</td>\n",
              "      <td>1.000000</td>\n",
              "      <td>0.0</td>\n",
              "      <td>1.000000</td>\n",
              "      <td>0.0</td>\n",
              "      <td>0.000000</td>\n",
              "      <td>0.0</td>\n",
              "      <td>1.000000</td>\n",
              "      <td>0.0</td>\n",
              "    </tr>\n",
              "    <tr>\n",
              "      <th>50%</th>\n",
              "      <td>657.841000</td>\n",
              "      <td>68.000000</td>\n",
              "      <td>4.000000</td>\n",
              "      <td>1.000000</td>\n",
              "      <td>346.000000</td>\n",
              "      <td>345.000000</td>\n",
              "      <td>123.000000</td>\n",
              "      <td>122.000000</td>\n",
              "      <td>1.000000</td>\n",
              "      <td>1.000000</td>\n",
              "      <td>1.000000</td>\n",
              "      <td>0.000000</td>\n",
              "      <td>1.000000</td>\n",
              "      <td>0.0</td>\n",
              "      <td>1.000000</td>\n",
              "      <td>0.0</td>\n",
              "      <td>0.000000</td>\n",
              "      <td>0.0</td>\n",
              "      <td>1.000000</td>\n",
              "      <td>0.0</td>\n",
              "    </tr>\n",
              "    <tr>\n",
              "      <th>75%</th>\n",
              "      <td>708.503250</td>\n",
              "      <td>69.000000</td>\n",
              "      <td>9.000000</td>\n",
              "      <td>2.000000</td>\n",
              "      <td>355.000000</td>\n",
              "      <td>354.000000</td>\n",
              "      <td>126.000000</td>\n",
              "      <td>126.000000</td>\n",
              "      <td>1.000000</td>\n",
              "      <td>1.000000</td>\n",
              "      <td>1.000000</td>\n",
              "      <td>0.000000</td>\n",
              "      <td>1.000000</td>\n",
              "      <td>0.0</td>\n",
              "      <td>1.000000</td>\n",
              "      <td>0.0</td>\n",
              "      <td>1.000000</td>\n",
              "      <td>0.0</td>\n",
              "      <td>1.000000</td>\n",
              "      <td>0.0</td>\n",
              "    </tr>\n",
              "    <tr>\n",
              "      <th>max</th>\n",
              "      <td>1761.042000</td>\n",
              "      <td>287.000000</td>\n",
              "      <td>267.000000</td>\n",
              "      <td>18.000000</td>\n",
              "      <td>760.000000</td>\n",
              "      <td>760.000000</td>\n",
              "      <td>254.000000</td>\n",
              "      <td>254.000000</td>\n",
              "      <td>3.000000</td>\n",
              "      <td>3.000000</td>\n",
              "      <td>4.000000</td>\n",
              "      <td>15.000000</td>\n",
              "      <td>3.000000</td>\n",
              "      <td>0.0</td>\n",
              "      <td>5.000000</td>\n",
              "      <td>0.0</td>\n",
              "      <td>1.000000</td>\n",
              "      <td>0.0</td>\n",
              "      <td>2.000000</td>\n",
              "      <td>0.0</td>\n",
              "    </tr>\n",
              "  </tbody>\n",
              "</table>\n",
              "</div>\n",
              "    <div class=\"colab-df-buttons\">\n",
              "\n",
              "  <div class=\"colab-df-container\">\n",
              "    <button class=\"colab-df-convert\" onclick=\"convertToInteractive('df-05901494-e898-4ba6-a302-fa87afb2b630')\"\n",
              "            title=\"Convert this dataframe to an interactive table.\"\n",
              "            style=\"display:none;\">\n",
              "\n",
              "  <svg xmlns=\"http://www.w3.org/2000/svg\" height=\"24px\" viewBox=\"0 -960 960 960\">\n",
              "    <path d=\"M120-120v-720h720v720H120Zm60-500h600v-160H180v160Zm220 220h160v-160H400v160Zm0 220h160v-160H400v160ZM180-400h160v-160H180v160Zm440 0h160v-160H620v160ZM180-180h160v-160H180v160Zm440 0h160v-160H620v160Z\"/>\n",
              "  </svg>\n",
              "    </button>\n",
              "\n",
              "  <style>\n",
              "    .colab-df-container {\n",
              "      display:flex;\n",
              "      gap: 12px;\n",
              "    }\n",
              "\n",
              "    .colab-df-convert {\n",
              "      background-color: #E8F0FE;\n",
              "      border: none;\n",
              "      border-radius: 50%;\n",
              "      cursor: pointer;\n",
              "      display: none;\n",
              "      fill: #1967D2;\n",
              "      height: 32px;\n",
              "      padding: 0 0 0 0;\n",
              "      width: 32px;\n",
              "    }\n",
              "\n",
              "    .colab-df-convert:hover {\n",
              "      background-color: #E2EBFA;\n",
              "      box-shadow: 0px 1px 2px rgba(60, 64, 67, 0.3), 0px 1px 3px 1px rgba(60, 64, 67, 0.15);\n",
              "      fill: #174EA6;\n",
              "    }\n",
              "\n",
              "    .colab-df-buttons div {\n",
              "      margin-bottom: 4px;\n",
              "    }\n",
              "\n",
              "    [theme=dark] .colab-df-convert {\n",
              "      background-color: #3B4455;\n",
              "      fill: #D2E3FC;\n",
              "    }\n",
              "\n",
              "    [theme=dark] .colab-df-convert:hover {\n",
              "      background-color: #434B5C;\n",
              "      box-shadow: 0px 1px 3px 1px rgba(0, 0, 0, 0.15);\n",
              "      filter: drop-shadow(0px 1px 2px rgba(0, 0, 0, 0.3));\n",
              "      fill: #FFFFFF;\n",
              "    }\n",
              "  </style>\n",
              "\n",
              "    <script>\n",
              "      const buttonEl =\n",
              "        document.querySelector('#df-05901494-e898-4ba6-a302-fa87afb2b630 button.colab-df-convert');\n",
              "      buttonEl.style.display =\n",
              "        google.colab.kernel.accessAllowed ? 'block' : 'none';\n",
              "\n",
              "      async function convertToInteractive(key) {\n",
              "        const element = document.querySelector('#df-05901494-e898-4ba6-a302-fa87afb2b630');\n",
              "        const dataTable =\n",
              "          await google.colab.kernel.invokeFunction('convertToInteractive',\n",
              "                                                    [key], {});\n",
              "        if (!dataTable) return;\n",
              "\n",
              "        const docLinkHtml = 'Like what you see? Visit the ' +\n",
              "          '<a target=\"_blank\" href=https://colab.research.google.com/notebooks/data_table.ipynb>data table notebook</a>'\n",
              "          + ' to learn more about interactive tables.';\n",
              "        element.innerHTML = '';\n",
              "        dataTable['output_type'] = 'display_data';\n",
              "        await google.colab.output.renderOutput(dataTable, element);\n",
              "        const docLink = document.createElement('div');\n",
              "        docLink.innerHTML = docLinkHtml;\n",
              "        element.appendChild(docLink);\n",
              "      }\n",
              "    </script>\n",
              "  </div>\n",
              "\n",
              "\n",
              "<div id=\"df-68ae9ad6-a165-4ff0-a0da-9c48e3fb124b\">\n",
              "  <button class=\"colab-df-quickchart\" onclick=\"quickchart('df-68ae9ad6-a165-4ff0-a0da-9c48e3fb124b')\"\n",
              "            title=\"Suggest charts\"\n",
              "            style=\"display:none;\">\n",
              "\n",
              "<svg xmlns=\"http://www.w3.org/2000/svg\" height=\"24px\"viewBox=\"0 0 24 24\"\n",
              "     width=\"24px\">\n",
              "    <g>\n",
              "        <path d=\"M19 3H5c-1.1 0-2 .9-2 2v14c0 1.1.9 2 2 2h14c1.1 0 2-.9 2-2V5c0-1.1-.9-2-2-2zM9 17H7v-7h2v7zm4 0h-2V7h2v10zm4 0h-2v-4h2v4z\"/>\n",
              "    </g>\n",
              "</svg>\n",
              "  </button>\n",
              "\n",
              "<style>\n",
              "  .colab-df-quickchart {\n",
              "      --bg-color: #E8F0FE;\n",
              "      --fill-color: #1967D2;\n",
              "      --hover-bg-color: #E2EBFA;\n",
              "      --hover-fill-color: #174EA6;\n",
              "      --disabled-fill-color: #AAA;\n",
              "      --disabled-bg-color: #DDD;\n",
              "  }\n",
              "\n",
              "  [theme=dark] .colab-df-quickchart {\n",
              "      --bg-color: #3B4455;\n",
              "      --fill-color: #D2E3FC;\n",
              "      --hover-bg-color: #434B5C;\n",
              "      --hover-fill-color: #FFFFFF;\n",
              "      --disabled-bg-color: #3B4455;\n",
              "      --disabled-fill-color: #666;\n",
              "  }\n",
              "\n",
              "  .colab-df-quickchart {\n",
              "    background-color: var(--bg-color);\n",
              "    border: none;\n",
              "    border-radius: 50%;\n",
              "    cursor: pointer;\n",
              "    display: none;\n",
              "    fill: var(--fill-color);\n",
              "    height: 32px;\n",
              "    padding: 0;\n",
              "    width: 32px;\n",
              "  }\n",
              "\n",
              "  .colab-df-quickchart:hover {\n",
              "    background-color: var(--hover-bg-color);\n",
              "    box-shadow: 0 1px 2px rgba(60, 64, 67, 0.3), 0 1px 3px 1px rgba(60, 64, 67, 0.15);\n",
              "    fill: var(--button-hover-fill-color);\n",
              "  }\n",
              "\n",
              "  .colab-df-quickchart-complete:disabled,\n",
              "  .colab-df-quickchart-complete:disabled:hover {\n",
              "    background-color: var(--disabled-bg-color);\n",
              "    fill: var(--disabled-fill-color);\n",
              "    box-shadow: none;\n",
              "  }\n",
              "\n",
              "  .colab-df-spinner {\n",
              "    border: 2px solid var(--fill-color);\n",
              "    border-color: transparent;\n",
              "    border-bottom-color: var(--fill-color);\n",
              "    animation:\n",
              "      spin 1s steps(1) infinite;\n",
              "  }\n",
              "\n",
              "  @keyframes spin {\n",
              "    0% {\n",
              "      border-color: transparent;\n",
              "      border-bottom-color: var(--fill-color);\n",
              "      border-left-color: var(--fill-color);\n",
              "    }\n",
              "    20% {\n",
              "      border-color: transparent;\n",
              "      border-left-color: var(--fill-color);\n",
              "      border-top-color: var(--fill-color);\n",
              "    }\n",
              "    30% {\n",
              "      border-color: transparent;\n",
              "      border-left-color: var(--fill-color);\n",
              "      border-top-color: var(--fill-color);\n",
              "      border-right-color: var(--fill-color);\n",
              "    }\n",
              "    40% {\n",
              "      border-color: transparent;\n",
              "      border-right-color: var(--fill-color);\n",
              "      border-top-color: var(--fill-color);\n",
              "    }\n",
              "    60% {\n",
              "      border-color: transparent;\n",
              "      border-right-color: var(--fill-color);\n",
              "    }\n",
              "    80% {\n",
              "      border-color: transparent;\n",
              "      border-right-color: var(--fill-color);\n",
              "      border-bottom-color: var(--fill-color);\n",
              "    }\n",
              "    90% {\n",
              "      border-color: transparent;\n",
              "      border-bottom-color: var(--fill-color);\n",
              "    }\n",
              "  }\n",
              "</style>\n",
              "\n",
              "  <script>\n",
              "    async function quickchart(key) {\n",
              "      const quickchartButtonEl =\n",
              "        document.querySelector('#' + key + ' button');\n",
              "      quickchartButtonEl.disabled = true;  // To prevent multiple clicks.\n",
              "      quickchartButtonEl.classList.add('colab-df-spinner');\n",
              "      try {\n",
              "        const charts = await google.colab.kernel.invokeFunction(\n",
              "            'suggestCharts', [key], {});\n",
              "      } catch (error) {\n",
              "        console.error('Error during call to suggestCharts:', error);\n",
              "      }\n",
              "      quickchartButtonEl.classList.remove('colab-df-spinner');\n",
              "      quickchartButtonEl.classList.add('colab-df-quickchart-complete');\n",
              "    }\n",
              "    (() => {\n",
              "      let quickchartButtonEl =\n",
              "        document.querySelector('#df-68ae9ad6-a165-4ff0-a0da-9c48e3fb124b button');\n",
              "      quickchartButtonEl.style.display =\n",
              "        google.colab.kernel.accessAllowed ? 'block' : 'none';\n",
              "    })();\n",
              "  </script>\n",
              "</div>\n",
              "    </div>\n",
              "  </div>\n"
            ],
            "application/vnd.google.colaboratory.intrinsic+json": {
              "type": "dataframe",
              "summary": "{\n  \"name\": \"df\",\n  \"rows\": 8,\n  \"fields\": [\n    {\n      \"column\": \"pdfsize\",\n      \"properties\": {\n        \"dtype\": \"number\",\n        \"std\": 176547.272522689,\n        \"min\": 0.0,\n        \"max\": 500000.0,\n        \"num_unique_values\": 8,\n        \"samples\": [\n          563.3637718740001,\n          657.841,\n          500000.0\n        ],\n        \"semantic_type\": \"\",\n        \"description\": \"\"\n      }\n    },\n    {\n      \"column\": \"pages\",\n      \"properties\": {\n        \"dtype\": \"number\",\n        \"std\": 176747.60731032855,\n        \"min\": 0.0,\n        \"max\": 500000.0,\n        \"num_unique_values\": 8,\n        \"samples\": [\n          55.101686,\n          68.0,\n          500000.0\n        ],\n        \"semantic_type\": \"\",\n        \"description\": \"\"\n      }\n    },\n    {\n      \"column\": \"title characters\",\n      \"properties\": {\n        \"dtype\": \"number\",\n        \"std\": 176761.96503977248,\n        \"min\": 0.0,\n        \"max\": 500000.0,\n        \"num_unique_values\": 7,\n        \"samples\": [\n          500000.0,\n          5.617004,\n          9.0\n        ],\n        \"semantic_type\": \"\",\n        \"description\": \"\"\n      }\n    },\n    {\n      \"column\": \"images\",\n      \"properties\": {\n        \"dtype\": \"number\",\n        \"std\": 176775.4945161141,\n        \"min\": 0.0,\n        \"max\": 500000.0,\n        \"num_unique_values\": 7,\n        \"samples\": [\n          500000.0,\n          1.041594,\n          2.0\n        ],\n        \"semantic_type\": \"\",\n        \"description\": \"\"\n      }\n    },\n    {\n      \"column\": \"obj\",\n      \"properties\": {\n        \"dtype\": \"number\",\n        \"std\": 176668.59578169082,\n        \"min\": 0.0,\n        \"max\": 500000.0,\n        \"num_unique_values\": 8,\n        \"samples\": [\n          273.595072,\n          346.0,\n          500000.0\n        ],\n        \"semantic_type\": \"\",\n        \"description\": \"\"\n      }\n    },\n    {\n      \"column\": \"endobj\",\n      \"properties\": {\n        \"dtype\": \"number\",\n        \"std\": 176668.68262860918,\n        \"min\": 0.0,\n        \"max\": 500000.0,\n        \"num_unique_values\": 8,\n        \"samples\": [\n          273.47229,\n          345.0,\n          500000.0\n        ],\n        \"semantic_type\": \"\",\n        \"description\": \"\"\n      }\n    },\n    {\n      \"column\": \"stream\",\n      \"properties\": {\n        \"dtype\": \"number\",\n        \"std\": 176739.5974084122,\n        \"min\": 0.0,\n        \"max\": 500000.0,\n        \"num_unique_values\": 8,\n        \"samples\": [\n          95.115512,\n          123.0,\n          500000.0\n        ],\n        \"semantic_type\": \"\",\n        \"description\": \"\"\n      }\n    },\n    {\n      \"column\": \"endstream\",\n      \"properties\": {\n        \"dtype\": \"number\",\n        \"std\": 176739.5151937158,\n        \"min\": 0.0,\n        \"max\": 500000.0,\n        \"num_unique_values\": 8,\n        \"samples\": [\n          95.3315,\n          122.0,\n          500000.0\n        ],\n        \"semantic_type\": \"\",\n        \"description\": \"\"\n      }\n    },\n    {\n      \"column\": \"xref\",\n      \"properties\": {\n        \"dtype\": \"number\",\n        \"std\": 176776.32997400468,\n        \"min\": 0.0,\n        \"max\": 500000.0,\n        \"num_unique_values\": 6,\n        \"samples\": [\n          500000.0,\n          0.969714,\n          3.0\n        ],\n        \"semantic_type\": \"\",\n        \"description\": \"\"\n      }\n    },\n    {\n      \"column\": \"trailer\",\n      \"properties\": {\n        \"dtype\": \"number\",\n        \"std\": 176776.32931209693,\n        \"min\": 0.0,\n        \"max\": 500000.0,\n        \"num_unique_values\": 6,\n        \"samples\": [\n          500000.0,\n          1.001358,\n          3.0\n        ],\n        \"semantic_type\": \"\",\n        \"description\": \"\"\n      }\n    },\n    {\n      \"column\": \"startxref\",\n      \"properties\": {\n        \"dtype\": \"number\",\n        \"std\": 176776.28131932387,\n        \"min\": 0.0,\n        \"max\": 500000.0,\n        \"num_unique_values\": 6,\n        \"samples\": [\n          500000.0,\n          0.997758,\n          4.0\n        ],\n        \"semantic_type\": \"\",\n        \"description\": \"\"\n      }\n    },\n    {\n      \"column\": \"ObjStm\",\n      \"properties\": {\n        \"dtype\": \"number\",\n        \"std\": 176775.92731785795,\n        \"min\": 0.0,\n        \"max\": 500000.0,\n        \"num_unique_values\": 5,\n        \"samples\": [\n          0.008572,\n          15.0,\n          0.1981681088298486\n        ],\n        \"semantic_type\": \"\",\n        \"description\": \"\"\n      }\n    },\n    {\n      \"column\": \"JS\",\n      \"properties\": {\n        \"dtype\": \"number\",\n        \"std\": 176776.3204758056,\n        \"min\": 0.0,\n        \"max\": 500000.0,\n        \"num_unique_values\": 6,\n        \"samples\": [\n          500000.0,\n          0.873134,\n          3.0\n        ],\n        \"semantic_type\": \"\",\n        \"description\": \"\"\n      }\n    },\n    {\n      \"column\": \"OBS_JS\",\n      \"properties\": {\n        \"dtype\": \"number\",\n        \"std\": 176776.69529663687,\n        \"min\": 0.0,\n        \"max\": 500000.0,\n        \"num_unique_values\": 2,\n        \"samples\": [\n          0.0,\n          500000.0\n        ],\n        \"semantic_type\": \"\",\n        \"description\": \"\"\n      }\n    },\n    {\n      \"column\": \"Javascript\",\n      \"properties\": {\n        \"dtype\": \"number\",\n        \"std\": 176776.2299971118,\n        \"min\": 0.0,\n        \"max\": 500000.0,\n        \"num_unique_values\": 6,\n        \"samples\": [\n          500000.0,\n          0.795662\n        ],\n        \"semantic_type\": \"\",\n        \"description\": \"\"\n      }\n    },\n    {\n      \"column\": \"OBS_Javascript\",\n      \"properties\": {\n        \"dtype\": \"number\",\n        \"std\": 176776.69529663687,\n        \"min\": 0.0,\n        \"max\": 500000.0,\n        \"num_unique_values\": 2,\n        \"samples\": [\n          0.0,\n          500000.0\n        ],\n        \"semantic_type\": \"\",\n        \"description\": \"\"\n      }\n    },\n    {\n      \"column\": \"OpenAction\",\n      \"properties\": {\n        \"dtype\": \"number\",\n        \"std\": 176776.54718024292,\n        \"min\": 0.0,\n        \"max\": 500000.0,\n        \"num_unique_values\": 5,\n        \"samples\": [\n          0.4366,\n          1.0\n        ],\n        \"semantic_type\": \"\",\n        \"description\": \"\"\n      }\n    },\n    {\n      \"column\": \"OBS_OpenAction\",\n      \"properties\": {\n        \"dtype\": \"number\",\n        \"std\": 176776.69529663687,\n        \"min\": 0.0,\n        \"max\": 500000.0,\n        \"num_unique_values\": 2,\n        \"samples\": [\n          0.0,\n          500000.0\n        ],\n        \"semantic_type\": \"\",\n        \"description\": \"\"\n      }\n    },\n    {\n      \"column\": \"Acroform\",\n      \"properties\": {\n        \"dtype\": \"number\",\n        \"std\": 176776.37170133422,\n        \"min\": 0.0,\n        \"max\": 500000.0,\n        \"num_unique_values\": 6,\n        \"samples\": [\n          500000.0,\n          0.887564\n        ],\n        \"semantic_type\": \"\",\n        \"description\": \"\"\n      }\n    },\n    {\n      \"column\": \"OBS_Acroform\",\n      \"properties\": {\n        \"dtype\": \"number\",\n        \"std\": 176776.69529663687,\n        \"min\": 0.0,\n        \"max\": 500000.0,\n        \"num_unique_values\": 2,\n        \"samples\": [\n          0.0,\n          500000.0\n        ],\n        \"semantic_type\": \"\",\n        \"description\": \"\"\n      }\n    }\n  ]\n}"
            }
          },
          "metadata": {},
          "execution_count": 14
        }
      ]
    },
    {
      "cell_type": "markdown",
      "source": [
        "## Data Exploration of each Column"
      ],
      "metadata": {
        "id": "E0_I2m0mF3Sg"
      }
    },
    {
      "cell_type": "code",
      "source": [
        "for column in df.columns:\n",
        "  print(f\"{column} : {df[column].nunique()} \")\n",
        "  print(f\"Unique Values:{df[column].unique()}\")\n",
        "  print()"
      ],
      "metadata": {
        "id": "xPw8IhFSF0J0",
        "colab": {
          "base_uri": "https://localhost:8080/"
        },
        "outputId": "3bf2274c-7ba3-4843-8869-f4e13303510c"
      },
      "execution_count": null,
      "outputs": [
        {
          "output_type": "stream",
          "name": "stdout",
          "text": [
            "pdfsize : 206559 \n",
            "Unique Values:[644.326 648.05  696.506 ... 172.    270.    166.   ]\n",
            "\n",
            "pages : 194 \n",
            "Unique Values:[ 70  68  69   0   1  72  73  71  67   3 184 154   2 166   4  75   7   5\n",
            "   6  76 179  74 163 194 219 180 155 171 189 181  66 210 162  83 176 170\n",
            " 151 195   9 211 204 140 134  80 229 142 186 150 196 125 217 144 173  82\n",
            " 152 214 121 168 190 199 165 156 138 164 212 198 200 222 205 221 143 169\n",
            " 146  85 218 191 175 215 202 213 167 172 247 259 148 193 239 192 183 153\n",
            " 120  77 178 137 231 185 174 132 187 197 135  86 161 177  88 182 188 206\n",
            " 147 130 157 203 136 253   8 249 225 149 258 228 145 160 227 216 159 233\n",
            "  10 201 220 209 133 287  89 248 127 208 226  93 241 118  87 223 230 158\n",
            " 238 255  84 224 237 122 207 246 236 260 234  78 114 232 139 251 243 126\n",
            " 123  79 257 141  81 131  90 116 113  91 245 124 244 281 129 262 254 271\n",
            " 235 240 250 115 280 252 110  92 119 112 256 263 242 117]\n",
            "\n",
            "title characters : 102 \n",
            "Unique Values:[  0  10  11  16  24   7   8  15   3  14   2   1   4   5   9   6  13  20\n",
            "  19  12  18  22  17 217  23  25  32  27  21  31  26  33  36  29  28  88\n",
            "  34 148 158  30 198 207  35 195 199 174 145 159  37 208 202 152 239 182\n",
            " 169 196 141  76 250 243 111 123 168 150  67  38 153 186 117 116 129 165\n",
            "  84 114 142 140 184 232  42 180 170 134 209 139 185 155 267  68 118  40\n",
            "  89 112 176 156 172  90  44  43  39  41  49  45]\n",
            "\n",
            "images : 17 \n",
            "Unique Values:[ 1  0  2  3 11  9  6  7  4 16 13 14 12 17 15 10 18]\n",
            "\n",
            "obj : 643 \n",
            "Unique Values:[348 353 759 388 355 302 310 354 352 351   5 258 317   0 303 375 229  80\n",
            " 346 349 369 345 305  63 324 319 363 318 377 341 365  24 356 366  22 358\n",
            "   4 350 360  16 220 381  53 364 225 344 340 372  21 227 323 403 342 359\n",
            " 380 368 362 357 379 309 268 315 714  37 384 295   2 314 311  17 231 300\n",
            " 313 760 293  28 306 223 228 367 321  30  11 374 281 386 320 347 266 312\n",
            " 373 296 376 286 304 383  81  20   8 371 316 301 361 307 370 222 252  42\n",
            " 278  15 265 245 397 726  14 382  45 378 269   6 297 326 387 339 343 298\n",
            "  23 385 337 280  18 308   7 257 405  40  10 272  64 411 414 394 226 299\n",
            " 283 693  25  59 127 688  61 291  29 259  79 260  85 267  41 263 277  77\n",
            "   9 218 233  60  70   3 208 264 279 274 288 469   1  75 251 294 325 690\n",
            "  65 230  39 235 270  71 441 106 327  44 271 232 434  84 393 632  67 219\n",
            " 256 224  32 389  89  12  13  35 338  33 408  19  58 248 221  46 708 332\n",
            "  98 292 328 330 329  38 391  43  49 273 696 322 253  73 255 214 390 723\n",
            "  55 721 262 663 234  87  51 213  26  95 275  78 282 660  27 653  50  68\n",
            " 236  91 402 331 290 289 413 212 636 276  31  52 428  76 698 237 216 285\n",
            " 438 336 261  90 105 284  74 398  48 684  83 672 392 697 396  66 409 417\n",
            " 217 210 455 437 610 706 254 425 407  99 333  57  86 421 695 457 334 431\n",
            " 422 423 637 674 420  72 287 758 571  69  54 401 648 738 238 705 211 433\n",
            " 124 599 426 743 745  36 655 111 675 701 400 730 454  34 100 416 751 424\n",
            " 739  47 734 644 419 429  93 215 754 707 239 671 427 659 440 115  82 335\n",
            " 410 404 463 592 452 700  56 737 634  96 244 664 683 678 406 679 101 747\n",
            "  92 572 626 412 478 435 728 682 399 470 120 449 444  94 608 611 732 703\n",
            " 591 241 646 744 395 108 468 559 666 418 711 442 600 580 709 729 719 623\n",
            " 717 618  62 602 658 240 415 432  88 250 669 140 104 748 102 718 242 459\n",
            " 668 430 699 622 607 615 450 657 652 654 439 436 613 749 656 686 246 725\n",
            " 467 753 247 619 446 687 716 681 724 752 443 249 741 651 710 113 702 103\n",
            " 616 447 205 645 689 750 448 638 680 647 692 129 639 642 676 465 624 118\n",
            " 720 466 731 123 112 735 627 472 556 596 715 625 145 451 685 243 727 740\n",
            " 629 605 677 479 116 481 117 712  97 107 630 590 661 757 722 581 628 694\n",
            " 114 650 471 574 462 585 562 445 548 126 713 733 132 673 665 617 649 667\n",
            " 552 742 586 640 604 736 756 643 110 109 456 588 121 582 119 597 704 122\n",
            " 464 491 620 601 203 578 755 460 569 746 453 557 547 595 691 641 670 609\n",
            " 558 130 566 594 631 614 207 461 563 125 577 209 458 612 476 662 568 524\n",
            " 534 606 635 603 475 589 546 498 575 128 598 633 584 576 489 583 554 134\n",
            " 143 474 621 512 561 564 538 528 206 482 141 516 542 522 535 133 567 500\n",
            " 544 477 550 146 579 540 509 555 587 142 532 565 480]\n",
            "\n",
            "endobj : 673 \n",
            "Unique Values:[351 345 353 667 373 352 302 304 383 348 350   0 258 314 347 305 355 310\n",
            " 220  50 306 349  34 325 313 362 316 375 346 343 360  21 354 366 312 384\n",
            " 356   2  55 221 388  46 341 236  23 231 374 318 326 425 377 296 357 359\n",
            " 387 311 315 364 367 317 277  62 386 293   7 365 309 434  14  26 225 376\n",
            " 751 323   4  31 378 223 308 226 307 344  20 371 760 381 284 370  10 319\n",
            " 379 380 300 369 372  33  17  12 298 403 228 268 265 260 259  49 280   3\n",
            " 272 358 339 295 235 227 408  28  16 274 321 299 297 320 338 269 385   5\n",
            " 409   9 335 410  11 382 397  29 267 361 416  45 399 404 301 322 232 701\n",
            " 645  15  39  93 342 737  83 282 291  58  19 328 262  56 270 303 102 271\n",
            " 283 368 337 421 336  52 390 224  41   6  40 400 266 234 273 290 430  76\n",
            " 257  22   8 363 659  74 412  30   1 704 255  27 222 263  53 433 436 233\n",
            "  79 440 229 213 253  25 276 401 415 391 647  13  87 340 392  61 402 278\n",
            " 334  82 279  35  18 256 324  63 332  80 447  37 626 331 261 330 294 424\n",
            " 215 264 734  36  69 625 230 597 292  67 219 389  97  70 395 218  47 287\n",
            "  48 286 651 216  32  24 553 327 211 420 413  57 673 241  73 554 212 661\n",
            " 217  60 636 242 275 450  51  44 426 243 653 100 333  90 418 640 618 101\n",
            " 623 289  81  54 398  68 432 422 655 248  78 719 739 725 649 254  88 240\n",
            " 281  42 407 465 393 285 602  59 114 617  75  38 690 214 703 115 329  98\n",
            " 411 723 394 428 438  85 756 570  64 396 681 630  65 718 288 457  89 237\n",
            " 405 612 445 753  94 238  84 672 695 668 601 431 444 682 459 414 423  77\n",
            " 671 460 427 419 252 122 249  95 610 406 707 592 239 731 451 670 454 677\n",
            " 685 452 429  92 105 687  72 112 106 732 702 716  66 665 710 441 744 491\n",
            " 755  71 621 449 698 688 110 210 442  86 694 615 417 720  91 736 121 746\n",
            " 622 686 714 251 635 244 613 448 250 646 453  43 135 629 741 606 754 758\n",
            " 740 722 674 455 103 679 696  96 446 748 643 757 246 743 706 439 747 600\n",
            " 742 582 692 752 104 605 749 463 470 650 579 113 476 680 638 604 437 663\n",
            " 245 733 697 109 735 684 652 728 443 634 689 107 666 611 573 637 197 585\n",
            " 713 691 729 669 683 435 678 581 676 711 664 119 208 633 693 709 609 209\n",
            " 469 715 133 123 721 616 586 111 662 561 127 504 247 607 575 118 456  99\n",
            " 568 595 631 560 108 129 562 658 603 708 641 458 116 712 717 549 759 705\n",
            " 546 738 656 591 588 584 675 559 589 730 648 608 522 205 750 614 468 132\n",
            " 541 464 619 727 699 628 472 624 654 120 726 657 117 745 642 594 475 545\n",
            " 580 566 577 620 492 583 131 639 700 660 480 724 537 596 544 590 548 496\n",
            " 598 471 644 564 474 576 126 141 557 477 627 517 462 467 207 567 145 538\n",
            " 128 461 599 593 473 510 578 587 572 479 552 558 527 528 489 521 124 503\n",
            " 565 505 523 478 487 547 516 524 167 134 136 466 533 203 493 571 125 204\n",
            " 540 556 563 484 529 159 498 151 551 495 542 632 536 483 130 569 147 142\n",
            " 535 520 550 153 555 143 534]\n",
            "\n",
            "stream : 255 \n",
            "Unique Values:[128 124 250 141 127 110 111 105   4  86 126   0 123 102 137 113  71  43\n",
            " 125 138   5 112 108 131 129 115 122   8 101 135   6 117  74 134   3 109\n",
            "  73 136 177 133 119  94 170 152 104 142  72  99 106   2   1 240  33 107\n",
            " 100  69 121  75 130  34  93 132 114  95 139 169 224  89 120  88  91   9\n",
            "  90  70 221  42 116   7 166 103 173  11  40 179  76 182  13 159  10 143\n",
            "  15 140 184 146 165  12 150  92  44 118 155  84  20  50  28 157 249  87\n",
            "  67  39  61 154  78 236 144 160 254  31  57  36 253  48 156 162  83  14\n",
            "  37 213  23 163 151 232  47 149 208  19 205  32  68 241 174 220  97 175\n",
            "  22 239 243  30 164  56  35 246 187 218 215 168 178 204  77  52  45 153\n",
            "  16  62  85  79  66 225 180 158 196 242 248 161 188 226  25 147 186 194\n",
            "  98  58 247  27 172  38 185 176 209 203  17 167 148 214 190  21 195 234\n",
            " 228 222  26  53 211 199  96 181  24 219 233  18 227 197  51 216 171 191\n",
            " 207 231 237 145 206  49 245 189  54 202 192 238  41  80  29 252 200  64\n",
            " 210  63 229  82 251 183 223 235  55 230 193 201  46 212 198 244  59 217\n",
            "  60  65  81]\n",
            "\n",
            "endstream : 255 \n",
            "Unique Values:[128 124 125 192 138 109 126 119   7  88 110   0 104 137 107  70  39 127\n",
            " 136   5 112 132 113 131   1 118 164   8 103 135   4 117  76 123 116 134\n",
            " 145  75 184   2 105 111  89 254 159 133 108 148  74 106 240  30 122   3\n",
            " 102 114  31   9  94  93 129  72 115 168 139 217  90 121 120   6  71 163\n",
            " 209  11  48 101 171  73  92  10 166  69 176 157  37 141  15 153 158 130\n",
            " 203 156 241 167  86  97  12  47 170 143 151  91  77  98  42 208 231  96\n",
            " 147  43  24  53  33  54 224 152 160 150 230 247  13  85  28  32  62  82\n",
            "  49  40 211 178 146 248 154 234 239 100  34  87 187 140  14  67 182  27\n",
            " 149 233 142  29 180  41  35  68  18  59  83 232  99 194 216 221 173  38\n",
            " 165  84 144 220  56 161 242  19 174  78 186  95 212 175 219  20  58 172\n",
            " 169 155  66 226  26 249 179 177  36 210  46 252 181 198 188 222  16 162\n",
            " 214 183 235 251 202  52 236 244 213  81  22  25 204  63 190  23 199  50\n",
            "  44 193 246 237  79  80 215 218 185 195  65 250 223 243  51  45 207 200\n",
            " 225  60 238 206  55  64 191  57 201 227 196 253 229 228 245  17 189 197\n",
            "  21 205  61]\n",
            "\n",
            "xref : 4 \n",
            "Unique Values:[1 0 2 3]\n",
            "\n",
            "trailer : 4 \n",
            "Unique Values:[1 2 0 3]\n",
            "\n",
            "startxref : 5 \n",
            "Unique Values:[1 2 0 3 4]\n",
            "\n",
            "ObjStm : 15 \n",
            "Unique Values:[ 0  3  4  5  6  2  8  1  7 10  9 11 12 15 13]\n",
            "\n",
            "JS : 4 \n",
            "Unique Values:[1 0 3 2]\n",
            "\n",
            "OBS_JS : 1 \n",
            "Unique Values:[0]\n",
            "\n",
            "Javascript : 6 \n",
            "Unique Values:[1 0 3 2 4 5]\n",
            "\n",
            "OBS_Javascript : 1 \n",
            "Unique Values:[0]\n",
            "\n",
            "OpenAction : 2 \n",
            "Unique Values:[1 0]\n",
            "\n",
            "OBS_OpenAction : 1 \n",
            "Unique Values:[0]\n",
            "\n",
            "Acroform : 3 \n",
            "Unique Values:[1 0 2]\n",
            "\n",
            "OBS_Acroform : 1 \n",
            "Unique Values:[0]\n",
            "\n",
            "class : 2 \n",
            "Unique Values:['Malicious' 'Benign']\n",
            "\n"
          ]
        }
      ]
    },
    {
      "cell_type": "markdown",
      "source": [
        "## Feature Importance"
      ],
      "metadata": {
        "id": "n7sHlPmIEx8S"
      }
    },
    {
      "cell_type": "code",
      "source": [
        "X = df.drop(columns = ['class'])\n",
        "y = df['class']\n",
        "\n",
        "\n",
        "from sklearn.ensemble import ExtraTreesClassifier\n",
        "model = ExtraTreesClassifier()\n",
        "model.fit(X,y)\n",
        "print(model.feature_importances_)\n",
        "feature_importances=pd.Series(model.feature_importances_,index=X.columns)\n",
        "feature_importances.nlargest(10).plot(kind='barh')\n",
        "plt.title(\"Feature Importance\")\n",
        "plt.show()"
      ],
      "metadata": {
        "id": "j3qfJqYyPgYd",
        "colab": {
          "base_uri": "https://localhost:8080/",
          "height": 520
        },
        "outputId": "9791eb14-2b41-4c95-b979-cd721fb2a5f9"
      },
      "execution_count": null,
      "outputs": [
        {
          "output_type": "stream",
          "name": "stdout",
          "text": [
            "[0.09511874 0.06662321 0.03160691 0.00667859 0.06604527 0.06527856\n",
            " 0.06689926 0.07974605 0.04940672 0.01634901 0.01009678 0.00055093\n",
            " 0.03639636 0.         0.02923058 0.         0.02710029 0.\n",
            " 0.35287274 0.        ]\n"
          ]
        },
        {
          "output_type": "display_data",
          "data": {
            "text/plain": [
              "<Figure size 640x480 with 1 Axes>"
            ],
            "image/png": "[encoded data removed]"
          },
          "metadata": {}
        }
      ]
    },
    {
      "cell_type": "markdown",
      "source": [
        "## AVG Number of Acroforms by Class"
      ],
      "metadata": {
        "id": "Lr6L930UE3hk"
      }
    },
    {
      "cell_type": "code",
      "source": [
        "label_encoder = LabelEncoder()\n",
        "df['class'] = label_encoder.fit_transform(df['class'])\n",
        "\n",
        "numAcroformsbyTarget = df.groupby(\"class\")[\"Acroform\"].mean()\n",
        "numAcroformsbyTarget = numAcroformsbyTarget.round()\n",
        "numAcroformsbyTarget.plot(kind=\"bar\")\n",
        "\n",
        "\n",
        "plt.xlabel(\"class\")\n",
        "plt.ylabel(\"Average Number of Acroforms (Rounded)\")\n",
        "plt.title(\"Average Number of Acroforms by Class\")\n",
        "plt.show()"
      ],
      "metadata": {
        "id": "OWl9SjFRZ3Ri",
        "colab": {
          "base_uri": "https://localhost:8080/",
          "height": 467
        },
        "outputId": "dfe67f20-6e43-4e41-a28f-d147ac7d4204"
      },
      "execution_count": null,
      "outputs": [
        {
          "output_type": "display_data",
          "data": {
            "text/plain": [
              "<Figure size 640x480 with 1 Axes>"
            ],
            "image/png": "[encoded data removed]"
          },
          "metadata": {}
        }
      ]
    },
    {
      "cell_type": "markdown",
      "source": [
        "## AVG PDF Size by Class"
      ],
      "metadata": {
        "id": "2-foMnK-FC97"
      }
    },
    {
      "cell_type": "code",
      "source": [
        "label_encoder = LabelEncoder()\n",
        "df['class'] = label_encoder.fit_transform(df['class'])\n",
        "\n",
        "numAcroformsbyTarget = df.groupby(\"class\")[\"pdfsize\"].mean()\n",
        "numAcroformsbyTarget.plot(kind=\"bar\")\n",
        "\n",
        "plt.xlabel(\"class\")\n",
        "plt.ylabel(\"Average PDF Size (in MB)\")\n",
        "plt.title(\"Average PDF Size by Class\")\n",
        "plt.show()"
      ],
      "metadata": {
        "id": "sS5eabc7ce6o",
        "colab": {
          "base_uri": "https://localhost:8080/",
          "height": 467
        },
        "outputId": "94e0a695-987a-4845-cd32-d27548710cad"
      },
      "execution_count": null,
      "outputs": [
        {
          "output_type": "display_data",
          "data": {
            "text/plain": [
              "<Figure size 640x480 with 1 Axes>"
            ],
            "image/png": "[encoded data removed]"
          },
          "metadata": {}
        }
      ]
    },
    {
      "cell_type": "markdown",
      "source": [
        "##Distribution of Number of Images in PDF by Class (Benign)"
      ],
      "metadata": {
        "id": "_F82DMAuKa4j"
      }
    },
    {
      "cell_type": "code",
      "source": [
        "sns.countplot(data=df, x='images', hue='class')\n",
        "plt.xticks(rotation=45)\n",
        "plt.title(\"Distribution of Number of Images for Target (Benign)\")\n",
        "plt.ylim(0, 10)\n",
        "\n",
        "plt.show()"
      ],
      "metadata": {
        "id": "tJQamp3ZKgmN",
        "colab": {
          "base_uri": "https://localhost:8080/",
          "height": 480
        },
        "outputId": "d9575a81-a4d2-4f68-f4f8-400a4b2e66bc"
      },
      "execution_count": null,
      "outputs": [
        {
          "output_type": "display_data",
          "data": {
            "text/plain": [
              "<Figure size 640x480 with 1 Axes>"
            ],
            "image/png": "[encoded data removed]"
          },
          "metadata": {}
        }
      ]
    },
    {
      "cell_type": "markdown",
      "source": [
        "##Distribution of Number of Images in PDF by Class (Malicious)"
      ],
      "metadata": {
        "id": "HNEwvsjkUGOS"
      }
    },
    {
      "cell_type": "code",
      "source": [
        "sns.countplot(data=df, x='images', hue='class')\n",
        "plt.xticks(rotation=45)\n",
        "plt.title(\"Distribution of Number of Images for Target (Malicious)\")\n",
        "\n",
        "plt.show()"
      ],
      "metadata": {
        "id": "u42vUa9qT8hO",
        "colab": {
          "base_uri": "https://localhost:8080/",
          "height": 480
        },
        "outputId": "b2fed68e-9284-48ec-8f63-03d2c81e9a50"
      },
      "execution_count": null,
      "outputs": [
        {
          "output_type": "display_data",
          "data": {
            "text/plain": [
              "<Figure size 640x480 with 1 Axes>"
            ],
            "image/png": "[encoded data removed]"
          },
          "metadata": {}
        }
      ]
    },
    {
      "cell_type": "markdown",
      "source": [
        "# Logistic Regression"
      ],
      "metadata": {
        "id": "K_Dg-bDpXQne"
      }
    },
    {
      "cell_type": "code",
      "source": [
        "# Splitting the dataset\n",
        "attr = df.drop(columns = ['class'])\n",
        "target = df['class']\n",
        "attr.head()\n",
        "target.head()"
      ],
      "metadata": {
        "id": "6zcqnRL5XB4p",
        "colab": {
          "base_uri": "https://localhost:8080/"
        },
        "outputId": "2854aa35-9547-40ea-9164-7bf078a4c22a"
      },
      "execution_count": null,
      "outputs": [
        {
          "output_type": "execute_result",
          "data": {
            "text/plain": [
              "0    Malicious\n",
              "1    Malicious\n",
              "2    Malicious\n",
              "3    Malicious\n",
              "4    Malicious\n",
              "Name: class, dtype: object"
            ]
          },
          "metadata": {},
          "execution_count": 9
        }
      ]
    },
    {
      "cell_type": "code",
      "source": [
        "# Split the data into training and testing sets\n",
        "attr_train, attr_test, target_train, target_test = train_test_split(attr, target, test_size=0.3, random_state=5)\n",
        "\n",
        "categorical_columns = []"
      ],
      "metadata": {
        "id": "6I6gmTA-jDZr"
      },
      "execution_count": null,
      "outputs": []
    },
    {
      "cell_type": "code",
      "source": [
        "scaler = StandardScaler()\n",
        "attr_train_scaled = scaler.fit_transform(attr_train)\n",
        "attr_test_scaled = scaler.transform(attr_test)\n",
        "\n",
        "\n",
        "# instantiate classifier\n",
        "logit = LogisticRegression(max_iter=2000)\n",
        "\n",
        "\n",
        "# fit classifier to training set\n",
        "logit.fit(attr_train_scaled,target_train)\n",
        "\n",
        "# make predictions on test set\n",
        "target_pred=logit.predict(attr_test_scaled)\n",
        "\n",
        "\n",
        "\n",
        "# compute and print accuracy score\n",
        "print('Accuracy: ')\n",
        "print(accuracy_score(target_test, target_pred))\n",
        "print('Classification Report')\n",
        "print(classification_report(target_test, target_pred))\n",
        "print()\n",
        "print('Confusion Matrix')\n",
        "print(confusion_matrix(target_test, target_pred))"
      ],
      "metadata": {
        "id": "4rFtDSd2ejbz",
        "colab": {
          "base_uri": "https://localhost:8080/"
        },
        "outputId": "ea8603f0-b061-47e6-e74b-dac2f9679527"
      },
      "execution_count": null,
      "outputs": [
        {
          "output_type": "stream",
          "name": "stdout",
          "text": [
            "Accuracy: \n",
            "0.9911266666666667\n",
            "Classification Report\n",
            "              precision    recall  f1-score   support\n",
            "\n",
            "      Benign       0.96      0.95      0.96     15026\n",
            "   Malicious       0.99      1.00      1.00    134974\n",
            "\n",
            "    accuracy                           0.99    150000\n",
            "   macro avg       0.98      0.97      0.98    150000\n",
            "weighted avg       0.99      0.99      0.99    150000\n",
            "\n",
            "\n",
            "Confusion Matrix\n",
            "[[ 14298    728]\n",
            " [   603 134371]]\n"
          ]
        }
      ]
    },
    {
      "cell_type": "code",
      "source": [
        "cm = confusion_matrix(target_test, target_pred)\n",
        "fig, ax = plt.subplots()\n",
        "sns.heatmap(cm, annot=True, fmt='g', ax=ax)\n",
        "ax.set_xlabel('Predicted labels')\n",
        "ax.set_ylabel('True labels')\n",
        "ax.set_title('Confusion Matrix')\n",
        "ax.xaxis.set_ticklabels(['Benign', 'Malicious'])\n",
        "ax.yaxis.set_ticklabels(['Benign', 'Malicious'])\n",
        "plt.show()"
      ],
      "metadata": {
        "colab": {
          "base_uri": "https://localhost:8080/",
          "height": 472
        },
        "id": "9v_1hw4bBemA",
        "outputId": "5d952582-14cd-498f-c984-a06715ff9533"
      },
      "execution_count": null,
      "outputs": [
        {
          "output_type": "display_data",
          "data": {
            "text/plain": [
              "<Figure size 640x480 with 2 Axes>"
            ],
            "image/png": "[encoded data removed]"
          },
          "metadata": {}
        }
      ]
    },
    {
      "cell_type": "markdown",
      "source": [
        "# Naive Bayes"
      ],
      "metadata": {
        "id": "9TiMOLPTiK6p"
      }
    },
    {
      "cell_type": "code",
      "source": [
        "# Splitting the dataset\n",
        "attr = df.drop(columns = ['class'])\n",
        "target = df['class']\n",
        "attr.head()\n",
        "target.head()\n",
        "\n",
        "attr_train, attr_test, target_train,target_test  = train_test_split(attr, target,test_size = 0.25, random_state = 44, shuffle = True)\n",
        "target_train.head()\n",
        "# attr_train.head()\n",
        "target_test.head()"
      ],
      "metadata": {
        "id": "sVUDyZpSimE7",
        "colab": {
          "base_uri": "https://localhost:8080/"
        },
        "outputId": "5a345db1-fe3f-4b40-ec01-2435564132bd"
      },
      "execution_count": null,
      "outputs": [
        {
          "output_type": "execute_result",
          "data": {
            "text/plain": [
              "492070       Benign\n",
              "474726       Benign\n",
              "260713    Malicious\n",
              "368273    Malicious\n",
              "387759    Malicious\n",
              "Name: class, dtype: object"
            ]
          },
          "metadata": {},
          "execution_count": 24
        }
      ]
    },
    {
      "cell_type": "code",
      "source": [
        "# Gaussian\n",
        "GNB = GaussianNB()\n",
        "GNB.fit(attr_train, target_train)\n",
        "target_pred_gnb = GNB.predict(attr_test)\n",
        "accuracy_gnb = accuracy_score(target_test, target_pred_gnb)\n",
        "print(f'Accuracy of GaussianNB() model {accuracy_gnb}')\n",
        "print('Classification Report for GaussianNB:')\n",
        "print(classification_report(target_test, target_pred_gnb))\n",
        "print('Confusion Matrix for GaussianNB:')\n",
        "cm_gnb = confusion_matrix(target_test, target_pred_gnb)\n",
        "print(cm_gnb)"
      ],
      "metadata": {
        "id": "_AG05tSUiRpe",
        "colab": {
          "base_uri": "https://localhost:8080/"
        },
        "outputId": "b43f87f0-a4b5-4ef4-c5e3-a5087837f317"
      },
      "execution_count": null,
      "outputs": [
        {
          "output_type": "stream",
          "name": "stdout",
          "text": [
            "Accuracy of GaussianNB() model 0.936664\n",
            "Classification Report for GaussianNB:\n",
            "              precision    recall  f1-score   support\n",
            "\n",
            "      Benign       0.61      0.99      0.76     12496\n",
            "   Malicious       1.00      0.93      0.96    112504\n",
            "\n",
            "    accuracy                           0.94    125000\n",
            "   macro avg       0.81      0.96      0.86    125000\n",
            "weighted avg       0.96      0.94      0.94    125000\n",
            "\n",
            "Confusion Matrix for GaussianNB:\n",
            "[[ 12353    143]\n",
            " [  7774 104730]]\n"
          ]
        }
      ]
    },
    {
      "cell_type": "code",
      "source": [
        "fig, ax = plt.subplots()\n",
        "sns.heatmap(cm_gnb, annot=True, fmt='g', ax=ax)\n",
        "ax.set_xlabel('Predicted labels')\n",
        "ax.set_ylabel('True labels')\n",
        "ax.set_title('Confusion Matrix for GaussianNB')\n",
        "ax.xaxis.set_ticklabels(['Benign', 'Malicious'])\n",
        "ax.yaxis.set_ticklabels(['Benign', 'Malicious'])\n",
        "plt.show()"
      ],
      "metadata": {
        "colab": {
          "base_uri": "https://localhost:8080/",
          "height": 472
        },
        "id": "W_FPVhv7XHbU",
        "outputId": "fecee33c-4222-4e88-b706-0bdadd43ff6b"
      },
      "execution_count": null,
      "outputs": [
        {
          "output_type": "display_data",
          "data": {
            "text/plain": [
              "<Figure size 640x480 with 2 Axes>"
            ],
            "image/png": "[encoded data removed]"
          },
          "metadata": {}
        }
      ]
    },
    {
      "cell_type": "code",
      "source": [
        "# Multinomial\n",
        "MNB = MultinomialNB()\n",
        "MNB.fit(attr_train, target_train)\n",
        "target_pred_mnb = MNB.predict(attr_test)\n",
        "accuracy_mnb = accuracy_score(target_test, target_pred_mnb)\n",
        "print(f'Accuracy of MultinomialNB() model {accuracy_mnb}')\n",
        "print('Classification Report for MultinomialNB:')\n",
        "print(classification_report(target_test, target_pred_mnb))\n",
        "print('Confusion Matrix for MultinomialNB:')\n",
        "cm_mnb = confusion_matrix(target_test, target_pred_mnb)\n",
        "print(cm_mnb)"
      ],
      "metadata": {
        "id": "RPsaU4m6lkXI",
        "colab": {
          "base_uri": "https://localhost:8080/"
        },
        "outputId": "2c9903f8-5ff0-4f9f-9ee3-22f3b6e24353"
      },
      "execution_count": null,
      "outputs": [
        {
          "output_type": "stream",
          "name": "stdout",
          "text": [
            "Accuracy of MultinomialNB() model 0.917296\n",
            "Classification Report for MultinomialNB:\n",
            "              precision    recall  f1-score   support\n",
            "\n",
            "      Benign       0.55      0.97      0.70     12496\n",
            "   Malicious       1.00      0.91      0.95    112504\n",
            "\n",
            "    accuracy                           0.92    125000\n",
            "   macro avg       0.77      0.94      0.83    125000\n",
            "weighted avg       0.95      0.92      0.93    125000\n",
            "\n",
            "Confusion Matrix for MultinomialNB:\n",
            "[[ 12160    336]\n",
            " [ 10002 102502]]\n"
          ]
        }
      ]
    },
    {
      "cell_type": "code",
      "source": [
        "fig, ax = plt.subplots()\n",
        "sns.heatmap(cm_mnb, annot=True, fmt='g', ax=ax)\n",
        "ax.set_xlabel('Predicted labels')\n",
        "ax.set_ylabel('True labels')\n",
        "ax.set_title('Confusion Matrix for MultinomialNB')\n",
        "ax.xaxis.set_ticklabels(['Benign', 'Malicious'])\n",
        "ax.yaxis.set_ticklabels(['Benign', 'Malicious'])\n",
        "plt.show()"
      ],
      "metadata": {
        "colab": {
          "base_uri": "https://localhost:8080/",
          "height": 472
        },
        "id": "s9HysGclZj0m",
        "outputId": "0caf4e2f-8aef-4b09-edfd-a36092c34efc"
      },
      "execution_count": null,
      "outputs": [
        {
          "output_type": "display_data",
          "data": {
            "text/plain": [
              "<Figure size 640x480 with 2 Axes>"
            ],
            "image/png": "[encoded data removed]"
          },
          "metadata": {}
        }
      ]
    },
    {
      "cell_type": "code",
      "source": [
        "# Categorical\n",
        "CNB = CategoricalNB()\n",
        "CNB.fit(attr_train, target_train)\n",
        "target_pred_cnb = CNB.predict(attr_test)\n",
        "accuracy_cnb = accuracy_score(target_test, target_pred_cnb)\n",
        "print(f'Accuracy of CategoricalNB() model: {accuracy_cnb}')\n",
        "print('Classification Report for CategoricalNB:')\n",
        "print(classification_report(target_test, target_pred_cnb))\n",
        "print('Confusion Matrix for CategoricalNB:')\n",
        "cm_cnb = confusion_matrix(target_test, target_pred_cnb)\n",
        "print(cm_cnb)"
      ],
      "metadata": {
        "colab": {
          "base_uri": "https://localhost:8080/"
        },
        "id": "sDVb-DqZaEm7",
        "outputId": "95c370cc-5d22-4d3a-8255-1a9d6755dba8"
      },
      "execution_count": null,
      "outputs": [
        {
          "output_type": "stream",
          "name": "stdout",
          "text": [
            "Accuracy of CategoricalNB() model: 0.975488\n",
            "Classification Report for CategoricalNB:\n",
            "              precision    recall  f1-score   support\n",
            "\n",
            "      Benign       0.80      1.00      0.89     12496\n",
            "   Malicious       1.00      0.97      0.99    112504\n",
            "\n",
            "    accuracy                           0.98    125000\n",
            "   macro avg       0.90      0.99      0.94    125000\n",
            "weighted avg       0.98      0.98      0.98    125000\n",
            "\n",
            "Confusion Matrix for CategoricalNB:\n",
            "[[ 12495      1]\n",
            " [  3063 109441]]\n"
          ]
        }
      ]
    },
    {
      "cell_type": "code",
      "source": [
        "fig, ax = plt.subplots()\n",
        "sns.heatmap(cm_cnb, annot=True, fmt='g', ax=ax)\n",
        "ax.set_xlabel('Predicted labels')\n",
        "ax.set_ylabel('True labels')\n",
        "ax.set_title('Confusion Matrix for CategoricalNB')\n",
        "ax.xaxis.set_ticklabels(['Benign', 'Malicious'])\n",
        "ax.yaxis.set_ticklabels(['Benign', 'Malicious'])\n",
        "plt.show()"
      ],
      "metadata": {
        "colab": {
          "base_uri": "https://localhost:8080/",
          "height": 472
        },
        "id": "fqjd2XHeadgw",
        "outputId": "814be95a-eb1b-4cd7-eb41-04b8f113970a"
      },
      "execution_count": null,
      "outputs": [
        {
          "output_type": "display_data",
          "data": {
            "text/plain": [
              "<Figure size 640x480 with 2 Axes>"
            ],
            "image/png": "[encoded data removed]"
          },
          "metadata": {}
        }
      ]
    },
    {
      "cell_type": "code",
      "source": [
        "# Bernoulli\n",
        "BNB = BernoulliNB()\n",
        "BNB.fit(attr_train, target_train)\n",
        "target_pred_bnb = BNB.predict(attr_test)\n",
        "accuracy_bnb = accuracy_score(target_test, target_pred_bnb)\n",
        "\n",
        "print(f'Accuracy of BernoulliNB() model: {accuracy_bnb}')\n",
        "print('Classification Report for BernoulliNB:')\n",
        "print(classification_report(target_test, target_pred_bnb))\n",
        "print('Confusion Matrix for BernoulliNB:')\n",
        "cm_bnb = confusion_matrix(target_test, target_pred_bnb)\n",
        "print(cm_bnb)"
      ],
      "metadata": {
        "colab": {
          "base_uri": "https://localhost:8080/"
        },
        "id": "fXAREs2QcmH6",
        "outputId": "f393a8c7-d601-4990-eb73-f5ca8e77c47c"
      },
      "execution_count": null,
      "outputs": [
        {
          "output_type": "stream",
          "name": "stdout",
          "text": [
            "Accuracy of BernoulliNB() model: 0.956824\n",
            "Classification Report for BernoulliNB:\n",
            "              precision    recall  f1-score   support\n",
            "\n",
            "      Benign       0.75      0.85      0.80     12496\n",
            "   Malicious       0.98      0.97      0.98    112504\n",
            "\n",
            "    accuracy                           0.96    125000\n",
            "   macro avg       0.87      0.91      0.89    125000\n",
            "weighted avg       0.96      0.96      0.96    125000\n",
            "\n",
            "Confusion Matrix for BernoulliNB:\n",
            "[[ 10654   1842]\n",
            " [  3555 108949]]\n"
          ]
        }
      ]
    },
    {
      "cell_type": "code",
      "source": [
        "fig, ax = plt.subplots()\n",
        "sns.heatmap(cm_bnb, annot=True, fmt='g', ax=ax)\n",
        "ax.set_xlabel('Predicted labels')\n",
        "ax.set_ylabel('True labels')\n",
        "ax.set_title('Confusion Matrix for BernoulliNB')\n",
        "ax.xaxis.set_ticklabels(['Benign', 'Malicious'])\n",
        "ax.yaxis.set_ticklabels(['Benign', 'Malicious'])\n",
        "plt.show()"
      ],
      "metadata": {
        "colab": {
          "base_uri": "https://localhost:8080/",
          "height": 472
        },
        "id": "a_pZJbZfdOQQ",
        "outputId": "2f81f52b-5c38-4508-92d5-8b20c1a7d833"
      },
      "execution_count": null,
      "outputs": [
        {
          "output_type": "display_data",
          "data": {
            "text/plain": [
              "<Figure size 640x480 with 2 Axes>"
            ],
            "image/png": "[encoded data removed]"
          },
          "metadata": {}
        }
      ]
    },
    {
      "cell_type": "markdown",
      "source": [
        "# KNN"
      ],
      "metadata": {
        "id": "yXNddn5rctwC"
      }
    },
    {
      "cell_type": "code",
      "source": [
        "X = df.drop(columns = ['class'])\n",
        "y = df['class']\n",
        "X.head()\n",
        "y.head()"
      ],
      "metadata": {
        "id": "LUCX_UnJc1PG",
        "colab": {
          "base_uri": "https://localhost:8080/"
        },
        "outputId": "56172109-aadd-4169-b522-5c0573e3c233"
      },
      "execution_count": null,
      "outputs": [
        {
          "output_type": "execute_result",
          "data": {
            "text/plain": [
              "0    Malicious\n",
              "1    Malicious\n",
              "2    Malicious\n",
              "3    Malicious\n",
              "4    Malicious\n",
              "Name: class, dtype: object"
            ]
          },
          "metadata": {},
          "execution_count": 7
        }
      ]
    },
    {
      "cell_type": "code",
      "source": [
        "from sklearn.preprocessing import MinMaxScaler\n",
        "scaler = MinMaxScaler()\n",
        "X = pd.DataFrame(scaler.fit_transform(X), columns=X.columns)\n",
        "X.head()"
      ],
      "metadata": {
        "id": "unPwbGpfdq7Y",
        "colab": {
          "base_uri": "https://localhost:8080/",
          "height": 243
        },
        "outputId": "66af53fd-4246-4952-c6cf-360e3063a271"
      },
      "execution_count": null,
      "outputs": [
        {
          "output_type": "execute_result",
          "data": {
            "text/plain": [
              "    pdfsize     pages  title characters    images       obj    endobj  \\\n",
              "0  0.365878  0.243902          0.000000  0.055556  0.457895  0.461842   \n",
              "1  0.367992  0.236934          0.000000  0.055556  0.457895  0.453947   \n",
              "2  0.395508  0.236934          0.000000  0.055556  0.464474  0.464474   \n",
              "3  0.406535  0.236934          0.000000  0.000000  0.998684  0.877632   \n",
              "4  0.401525  0.243902          0.037453  0.111111  0.510526  0.490789   \n",
              "\n",
              "     stream  endstream      xref   trailer  startxref  ObjStm        JS  \\\n",
              "0  0.503937   0.503937  0.333333  0.333333       0.25     0.0  0.333333   \n",
              "1  0.488189   0.488189  0.333333  0.333333       0.25     0.0  0.333333   \n",
              "2  0.503937   0.492126  0.333333  0.333333       0.25     0.0  0.333333   \n",
              "3  0.984252   0.755906  0.333333  0.333333       0.25     0.0  0.333333   \n",
              "4  0.555118   0.543307  0.333333  0.333333       0.25     0.0  0.333333   \n",
              "\n",
              "   OBS_JS  Javascript  OBS_Javascript  OpenAction  OBS_OpenAction  Acroform  \\\n",
              "0     0.0         0.2             0.0         1.0             0.0       0.5   \n",
              "1     0.0         0.2             0.0         0.0             0.0       0.5   \n",
              "2     0.0         0.2             0.0         0.0             0.0       0.5   \n",
              "3     0.0         0.2             0.0         1.0             0.0       0.5   \n",
              "4     0.0         0.2             0.0         1.0             0.0       0.5   \n",
              "\n",
              "   OBS_Acroform  \n",
              "0           0.0  \n",
              "1           0.0  \n",
              "2           0.0  \n",
              "3           0.0  \n",
              "4           0.0  "
            ],
            "text/html": [
              "\n",
              "  <div id=\"df-6997e94e-ba84-45a8-93c0-cf93a8f6ce22\" class=\"colab-df-container\">\n",
              "    <div>\n",
              "<style scoped>\n",
              "    .dataframe tbody tr th:only-of-type {\n",
              "        vertical-align: middle;\n",
              "    }\n",
              "\n",
              "    .dataframe tbody tr th {\n",
              "        vertical-align: top;\n",
              "    }\n",
              "\n",
              "    .dataframe thead th {\n",
              "        text-align: right;\n",
              "    }\n",
              "</style>\n",
              "<table border=\"1\" class=\"dataframe\">\n",
              "  <thead>\n",
              "    <tr style=\"text-align: right;\">\n",
              "      <th></th>\n",
              "      <th>pdfsize</th>\n",
              "      <th>pages</th>\n",
              "      <th>title characters</th>\n",
              "      <th>images</th>\n",
              "      <th>obj</th>\n",
              "      <th>endobj</th>\n",
              "      <th>stream</th>\n",
              "      <th>endstream</th>\n",
              "      <th>xref</th>\n",
              "      <th>trailer</th>\n",
              "      <th>startxref</th>\n",
              "      <th>ObjStm</th>\n",
              "      <th>JS</th>\n",
              "      <th>OBS_JS</th>\n",
              "      <th>Javascript</th>\n",
              "      <th>OBS_Javascript</th>\n",
              "      <th>OpenAction</th>\n",
              "      <th>OBS_OpenAction</th>\n",
              "      <th>Acroform</th>\n",
              "      <th>OBS_Acroform</th>\n",
              "    </tr>\n",
              "  </thead>\n",
              "  <tbody>\n",
              "    <tr>\n",
              "      <th>0</th>\n",
              "      <td>0.365878</td>\n",
              "      <td>0.243902</td>\n",
              "      <td>0.000000</td>\n",
              "      <td>0.055556</td>\n",
              "      <td>0.457895</td>\n",
              "      <td>0.461842</td>\n",
              "      <td>0.503937</td>\n",
              "      <td>0.503937</td>\n",
              "      <td>0.333333</td>\n",
              "      <td>0.333333</td>\n",
              "      <td>0.25</td>\n",
              "      <td>0.0</td>\n",
              "      <td>0.333333</td>\n",
              "      <td>0.0</td>\n",
              "      <td>0.2</td>\n",
              "      <td>0.0</td>\n",
              "      <td>1.0</td>\n",
              "      <td>0.0</td>\n",
              "      <td>0.5</td>\n",
              "      <td>0.0</td>\n",
              "    </tr>\n",
              "    <tr>\n",
              "      <th>1</th>\n",
              "      <td>0.367992</td>\n",
              "      <td>0.236934</td>\n",
              "      <td>0.000000</td>\n",
              "      <td>0.055556</td>\n",
              "      <td>0.457895</td>\n",
              "      <td>0.453947</td>\n",
              "      <td>0.488189</td>\n",
              "      <td>0.488189</td>\n",
              "      <td>0.333333</td>\n",
              "      <td>0.333333</td>\n",
              "      <td>0.25</td>\n",
              "      <td>0.0</td>\n",
              "      <td>0.333333</td>\n",
              "      <td>0.0</td>\n",
              "      <td>0.2</td>\n",
              "      <td>0.0</td>\n",
              "      <td>0.0</td>\n",
              "      <td>0.0</td>\n",
              "      <td>0.5</td>\n",
              "      <td>0.0</td>\n",
              "    </tr>\n",
              "    <tr>\n",
              "      <th>2</th>\n",
              "      <td>0.395508</td>\n",
              "      <td>0.236934</td>\n",
              "      <td>0.000000</td>\n",
              "      <td>0.055556</td>\n",
              "      <td>0.464474</td>\n",
              "      <td>0.464474</td>\n",
              "      <td>0.503937</td>\n",
              "      <td>0.492126</td>\n",
              "      <td>0.333333</td>\n",
              "      <td>0.333333</td>\n",
              "      <td>0.25</td>\n",
              "      <td>0.0</td>\n",
              "      <td>0.333333</td>\n",
              "      <td>0.0</td>\n",
              "      <td>0.2</td>\n",
              "      <td>0.0</td>\n",
              "      <td>0.0</td>\n",
              "      <td>0.0</td>\n",
              "      <td>0.5</td>\n",
              "      <td>0.0</td>\n",
              "    </tr>\n",
              "    <tr>\n",
              "      <th>3</th>\n",
              "      <td>0.406535</td>\n",
              "      <td>0.236934</td>\n",
              "      <td>0.000000</td>\n",
              "      <td>0.000000</td>\n",
              "      <td>0.998684</td>\n",
              "      <td>0.877632</td>\n",
              "      <td>0.984252</td>\n",
              "      <td>0.755906</td>\n",
              "      <td>0.333333</td>\n",
              "      <td>0.333333</td>\n",
              "      <td>0.25</td>\n",
              "      <td>0.0</td>\n",
              "      <td>0.333333</td>\n",
              "      <td>0.0</td>\n",
              "      <td>0.2</td>\n",
              "      <td>0.0</td>\n",
              "      <td>1.0</td>\n",
              "      <td>0.0</td>\n",
              "      <td>0.5</td>\n",
              "      <td>0.0</td>\n",
              "    </tr>\n",
              "    <tr>\n",
              "      <th>4</th>\n",
              "      <td>0.401525</td>\n",
              "      <td>0.243902</td>\n",
              "      <td>0.037453</td>\n",
              "      <td>0.111111</td>\n",
              "      <td>0.510526</td>\n",
              "      <td>0.490789</td>\n",
              "      <td>0.555118</td>\n",
              "      <td>0.543307</td>\n",
              "      <td>0.333333</td>\n",
              "      <td>0.333333</td>\n",
              "      <td>0.25</td>\n",
              "      <td>0.0</td>\n",
              "      <td>0.333333</td>\n",
              "      <td>0.0</td>\n",
              "      <td>0.2</td>\n",
              "      <td>0.0</td>\n",
              "      <td>1.0</td>\n",
              "      <td>0.0</td>\n",
              "      <td>0.5</td>\n",
              "      <td>0.0</td>\n",
              "    </tr>\n",
              "  </tbody>\n",
              "</table>\n",
              "</div>\n",
              "    <div class=\"colab-df-buttons\">\n",
              "\n",
              "  <div class=\"colab-df-container\">\n",
              "    <button class=\"colab-df-convert\" onclick=\"convertToInteractive('df-6997e94e-ba84-45a8-93c0-cf93a8f6ce22')\"\n",
              "            title=\"Convert this dataframe to an interactive table.\"\n",
              "            style=\"display:none;\">\n",
              "\n",
              "  <svg xmlns=\"http://www.w3.org/2000/svg\" height=\"24px\" viewBox=\"0 -960 960 960\">\n",
              "    <path d=\"M120-120v-720h720v720H120Zm60-500h600v-160H180v160Zm220 220h160v-160H400v160Zm0 220h160v-160H400v160ZM180-400h160v-160H180v160Zm440 0h160v-160H620v160ZM180-180h160v-160H180v160Zm440 0h160v-160H620v160Z\"/>\n",
              "  </svg>\n",
              "    </button>\n",
              "\n",
              "  <style>\n",
              "    .colab-df-container {\n",
              "      display:flex;\n",
              "      gap: 12px;\n",
              "    }\n",
              "\n",
              "    .colab-df-convert {\n",
              "      background-color: #E8F0FE;\n",
              "      border: none;\n",
              "      border-radius: 50%;\n",
              "      cursor: pointer;\n",
              "      display: none;\n",
              "      fill: #1967D2;\n",
              "      height: 32px;\n",
              "      padding: 0 0 0 0;\n",
              "      width: 32px;\n",
              "    }\n",
              "\n",
              "    .colab-df-convert:hover {\n",
              "      background-color: #E2EBFA;\n",
              "      box-shadow: 0px 1px 2px rgba(60, 64, 67, 0.3), 0px 1px 3px 1px rgba(60, 64, 67, 0.15);\n",
              "      fill: #174EA6;\n",
              "    }\n",
              "\n",
              "    .colab-df-buttons div {\n",
              "      margin-bottom: 4px;\n",
              "    }\n",
              "\n",
              "    [theme=dark] .colab-df-convert {\n",
              "      background-color: #3B4455;\n",
              "      fill: #D2E3FC;\n",
              "    }\n",
              "\n",
              "    [theme=dark] .colab-df-convert:hover {\n",
              "      background-color: #434B5C;\n",
              "      box-shadow: 0px 1px 3px 1px rgba(0, 0, 0, 0.15);\n",
              "      filter: drop-shadow(0px 1px 2px rgba(0, 0, 0, 0.3));\n",
              "      fill: #FFFFFF;\n",
              "    }\n",
              "  </style>\n",
              "\n",
              "    <script>\n",
              "      const buttonEl =\n",
              "        document.querySelector('#df-6997e94e-ba84-45a8-93c0-cf93a8f6ce22 button.colab-df-convert');\n",
              "      buttonEl.style.display =\n",
              "        google.colab.kernel.accessAllowed ? 'block' : 'none';\n",
              "\n",
              "      async function convertToInteractive(key) {\n",
              "        const element = document.querySelector('#df-6997e94e-ba84-45a8-93c0-cf93a8f6ce22');\n",
              "        const dataTable =\n",
              "          await google.colab.kernel.invokeFunction('convertToInteractive',\n",
              "                                                    [key], {});\n",
              "        if (!dataTable) return;\n",
              "\n",
              "        const docLinkHtml = 'Like what you see? Visit the ' +\n",
              "          '<a target=\"_blank\" href=https://colab.research.google.com/notebooks/data_table.ipynb>data table notebook</a>'\n",
              "          + ' to learn more about interactive tables.';\n",
              "        element.innerHTML = '';\n",
              "        dataTable['output_type'] = 'display_data';\n",
              "        await google.colab.output.renderOutput(dataTable, element);\n",
              "        const docLink = document.createElement('div');\n",
              "        docLink.innerHTML = docLinkHtml;\n",
              "        element.appendChild(docLink);\n",
              "      }\n",
              "    </script>\n",
              "  </div>\n",
              "\n",
              "\n",
              "<div id=\"df-00aee9ef-6265-4df5-af81-7038d9169601\">\n",
              "  <button class=\"colab-df-quickchart\" onclick=\"quickchart('df-00aee9ef-6265-4df5-af81-7038d9169601')\"\n",
              "            title=\"Suggest charts\"\n",
              "            style=\"display:none;\">\n",
              "\n",
              "<svg xmlns=\"http://www.w3.org/2000/svg\" height=\"24px\"viewBox=\"0 0 24 24\"\n",
              "     width=\"24px\">\n",
              "    <g>\n",
              "        <path d=\"M19 3H5c-1.1 0-2 .9-2 2v14c0 1.1.9 2 2 2h14c1.1 0 2-.9 2-2V5c0-1.1-.9-2-2-2zM9 17H7v-7h2v7zm4 0h-2V7h2v10zm4 0h-2v-4h2v4z\"/>\n",
              "    </g>\n",
              "</svg>\n",
              "  </button>\n",
              "\n",
              "<style>\n",
              "  .colab-df-quickchart {\n",
              "      --bg-color: #E8F0FE;\n",
              "      --fill-color: #1967D2;\n",
              "      --hover-bg-color: #E2EBFA;\n",
              "      --hover-fill-color: #174EA6;\n",
              "      --disabled-fill-color: #AAA;\n",
              "      --disabled-bg-color: #DDD;\n",
              "  }\n",
              "\n",
              "  [theme=dark] .colab-df-quickchart {\n",
              "      --bg-color: #3B4455;\n",
              "      --fill-color: #D2E3FC;\n",
              "      --hover-bg-color: #434B5C;\n",
              "      --hover-fill-color: #FFFFFF;\n",
              "      --disabled-bg-color: #3B4455;\n",
              "      --disabled-fill-color: #666;\n",
              "  }\n",
              "\n",
              "  .colab-df-quickchart {\n",
              "    background-color: var(--bg-color);\n",
              "    border: none;\n",
              "    border-radius: 50%;\n",
              "    cursor: pointer;\n",
              "    display: none;\n",
              "    fill: var(--fill-color);\n",
              "    height: 32px;\n",
              "    padding: 0;\n",
              "    width: 32px;\n",
              "  }\n",
              "\n",
              "  .colab-df-quickchart:hover {\n",
              "    background-color: var(--hover-bg-color);\n",
              "    box-shadow: 0 1px 2px rgba(60, 64, 67, 0.3), 0 1px 3px 1px rgba(60, 64, 67, 0.15);\n",
              "    fill: var(--button-hover-fill-color);\n",
              "  }\n",
              "\n",
              "  .colab-df-quickchart-complete:disabled,\n",
              "  .colab-df-quickchart-complete:disabled:hover {\n",
              "    background-color: var(--disabled-bg-color);\n",
              "    fill: var(--disabled-fill-color);\n",
              "    box-shadow: none;\n",
              "  }\n",
              "\n",
              "  .colab-df-spinner {\n",
              "    border: 2px solid var(--fill-color);\n",
              "    border-color: transparent;\n",
              "    border-bottom-color: var(--fill-color);\n",
              "    animation:\n",
              "      spin 1s steps(1) infinite;\n",
              "  }\n",
              "\n",
              "  @keyframes spin {\n",
              "    0% {\n",
              "      border-color: transparent;\n",
              "      border-bottom-color: var(--fill-color);\n",
              "      border-left-color: var(--fill-color);\n",
              "    }\n",
              "    20% {\n",
              "      border-color: transparent;\n",
              "      border-left-color: var(--fill-color);\n",
              "      border-top-color: var(--fill-color);\n",
              "    }\n",
              "    30% {\n",
              "      border-color: transparent;\n",
              "      border-left-color: var(--fill-color);\n",
              "      border-top-color: var(--fill-color);\n",
              "      border-right-color: var(--fill-color);\n",
              "    }\n",
              "    40% {\n",
              "      border-color: transparent;\n",
              "      border-right-color: var(--fill-color);\n",
              "      border-top-color: var(--fill-color);\n",
              "    }\n",
              "    60% {\n",
              "      border-color: transparent;\n",
              "      border-right-color: var(--fill-color);\n",
              "    }\n",
              "    80% {\n",
              "      border-color: transparent;\n",
              "      border-right-color: var(--fill-color);\n",
              "      border-bottom-color: var(--fill-color);\n",
              "    }\n",
              "    90% {\n",
              "      border-color: transparent;\n",
              "      border-bottom-color: var(--fill-color);\n",
              "    }\n",
              "  }\n",
              "</style>\n",
              "\n",
              "  <script>\n",
              "    async function quickchart(key) {\n",
              "      const quickchartButtonEl =\n",
              "        document.querySelector('#' + key + ' button');\n",
              "      quickchartButtonEl.disabled = true;  // To prevent multiple clicks.\n",
              "      quickchartButtonEl.classList.add('colab-df-spinner');\n",
              "      try {\n",
              "        const charts = await google.colab.kernel.invokeFunction(\n",
              "            'suggestCharts', [key], {});\n",
              "      } catch (error) {\n",
              "        console.error('Error during call to suggestCharts:', error);\n",
              "      }\n",
              "      quickchartButtonEl.classList.remove('colab-df-spinner');\n",
              "      quickchartButtonEl.classList.add('colab-df-quickchart-complete');\n",
              "    }\n",
              "    (() => {\n",
              "      let quickchartButtonEl =\n",
              "        document.querySelector('#df-00aee9ef-6265-4df5-af81-7038d9169601 button');\n",
              "      quickchartButtonEl.style.display =\n",
              "        google.colab.kernel.accessAllowed ? 'block' : 'none';\n",
              "    })();\n",
              "  </script>\n",
              "</div>\n",
              "    </div>\n",
              "  </div>\n"
            ],
            "application/vnd.google.colaboratory.intrinsic+json": {
              "type": "dataframe",
              "variable_name": "X"
            }
          },
          "metadata": {},
          "execution_count": 8
        }
      ]
    },
    {
      "cell_type": "code",
      "source": [
        "X_train, X_test, y_train, y_test  = train_test_split(X, y,test_size = 0.3, random_state = 4, shuffle = True)\n",
        "y_train.head()\n",
        "# attr_train.head()\n",
        "y_test.head()"
      ],
      "metadata": {
        "id": "HljxHUlZeB97",
        "colab": {
          "base_uri": "https://localhost:8080/"
        },
        "outputId": "420932e3-813a-4d25-a40f-4437c65cf35f"
      },
      "execution_count": null,
      "outputs": [
        {
          "output_type": "execute_result",
          "data": {
            "text/plain": [
              "360430    Malicious\n",
              "360250    Malicious\n",
              "131875    Malicious\n",
              "416314    Malicious\n",
              "108442    Malicious\n",
              "Name: class, dtype: object"
            ]
          },
          "metadata": {},
          "execution_count": 9
        }
      ]
    },
    {
      "cell_type": "code",
      "source": [
        "k_values = [3, 5, 10]\n",
        "for k in k_values:\n",
        "  knn = KNeighborsClassifier(n_neighbors = k)\n",
        "  knn.fit(X_train, y_train)\n",
        "  y_pred = knn.predict(X_test)\n",
        "  accuracy = accuracy_score(y_test, y_pred)\n",
        "  print(f'Accuracy of model with k = {k}: {accuracy}%')\n",
        "  print('')"
      ],
      "metadata": {
        "id": "ZFeYVIOJeTgB",
        "colab": {
          "base_uri": "https://localhost:8080/"
        },
        "outputId": "40c57748-95b7-4846-910e-ab769d74e761"
      },
      "execution_count": null,
      "outputs": [
        {
          "output_type": "stream",
          "name": "stdout",
          "text": [
            "Accuracy of model with k = 3: 0.99772%\n",
            "\n",
            "Accuracy of model with k = 5: 0.9976866666666667%\n",
            "\n",
            "Accuracy of model with k = 10: 0.9973266666666667%\n",
            "\n"
          ]
        }
      ]
    },
    {
      "cell_type": "code",
      "source": [
        "cm = confusion_matrix(y_test, y_pred)\n",
        "print('Confusion Matrix')\n",
        "print(confusion_matrix(y_test, y_pred))\n",
        "print()\n",
        "print('Accuracy score')\n",
        "print(accuracy_score(y_test, y_pred))\n",
        "print()\n",
        "print('Classification Report')\n",
        "print(classification_report(y_test, y_pred))\n"
      ],
      "metadata": {
        "id": "s3R9BUbUhsxv",
        "colab": {
          "base_uri": "https://localhost:8080/"
        },
        "outputId": "f5ba45a0-9a0a-4af6-89ea-1587ec7f2c7b"
      },
      "execution_count": null,
      "outputs": [
        {
          "output_type": "stream",
          "name": "stdout",
          "text": [
            "Confusion Matrix\n",
            "[[ 14807    135]\n",
            " [   266 134792]]\n",
            "\n",
            "Accuracy score\n",
            "0.9973266666666667\n",
            "\n",
            "Classification Report\n",
            "              precision    recall  f1-score   support\n",
            "\n",
            "      Benign       0.98      0.99      0.99     14942\n",
            "   Malicious       1.00      1.00      1.00    135058\n",
            "\n",
            "    accuracy                           1.00    150000\n",
            "   macro avg       0.99      0.99      0.99    150000\n",
            "weighted avg       1.00      1.00      1.00    150000\n",
            "\n"
          ]
        }
      ]
    },
    {
      "cell_type": "code",
      "source": [
        "ax = plt.subplot()\n",
        "sns.heatmap(cm, annot=True, fmt='g', ax=ax);\n",
        "# labels, title and ticks\n",
        "ax.set_xlabel('Predicted labels');ax.set_ylabel('True labels');\n",
        "ax.set_title('Confusion Matrix');\n",
        "ax.xaxis.set_ticklabels(['Benign', 'Malicious'])\n",
        "ax.yaxis.set_ticklabels(['Benign', 'Malicious'])\n"
      ],
      "metadata": {
        "id": "J1e-2MhAiSqF",
        "colab": {
          "base_uri": "https://localhost:8080/",
          "height": 489
        },
        "outputId": "4e2ac2d9-2466-42a9-bc22-174742966a5e"
      },
      "execution_count": null,
      "outputs": [
        {
          "output_type": "execute_result",
          "data": {
            "text/plain": [
              "[Text(0, 0.5, 'Benign'), Text(0, 1.5, 'Malicious')]"
            ]
          },
          "metadata": {},
          "execution_count": 12
        },
        {
          "output_type": "display_data",
          "data": {
            "text/plain": [
              "<Figure size 640x480 with 2 Axes>"
            ],
            "image/png": "[encoded data removed]"
          },
          "metadata": {}
        }
      ]
    },
    {
      "cell_type": "markdown",
      "source": [
        "#Random Forest"
      ],
      "metadata": {
        "id": "vbgj9qeGkzk0"
      }
    },
    {
      "cell_type": "code",
      "source": [
        "df_num= df.select_dtypes(exclude='object')\n",
        "df_obj= df.select_dtypes(include='object')\n",
        "df_num.info()\n",
        "df_obj.info()"
      ],
      "metadata": {
        "id": "lfnqsjjsk1rQ",
        "colab": {
          "base_uri": "https://localhost:8080/"
        },
        "outputId": "5d6a8914-e6e5-4e01-cef1-ef0828f0a96e"
      },
      "execution_count": null,
      "outputs": [
        {
          "output_type": "stream",
          "name": "stdout",
          "text": [
            "<class 'pandas.core.frame.DataFrame'>\n",
            "RangeIndex: 500000 entries, 0 to 499999\n",
            "Data columns (total 20 columns):\n",
            " #   Column            Non-Null Count   Dtype  \n",
            "---  ------            --------------   -----  \n",
            " 0   pdfsize           500000 non-null  float64\n",
            " 1   pages             500000 non-null  int64  \n",
            " 2   title characters  500000 non-null  int64  \n",
            " 3   images            500000 non-null  int64  \n",
            " 4   obj               500000 non-null  int64  \n",
            " 5   endobj            500000 non-null  int64  \n",
            " 6   stream            500000 non-null  int64  \n",
            " 7   endstream         500000 non-null  int64  \n",
            " 8   xref              500000 non-null  int64  \n",
            " 9   trailer           500000 non-null  int64  \n",
            " 10  startxref         500000 non-null  int64  \n",
            " 11  ObjStm            500000 non-null  int64  \n",
            " 12  JS                500000 non-null  int64  \n",
            " 13  OBS_JS            500000 non-null  int64  \n",
            " 14  Javascript        500000 non-null  int64  \n",
            " 15  OBS_Javascript    500000 non-null  int64  \n",
            " 16  OpenAction        500000 non-null  int64  \n",
            " 17  OBS_OpenAction    500000 non-null  int64  \n",
            " 18  Acroform          500000 non-null  int64  \n",
            " 19  OBS_Acroform      500000 non-null  int64  \n",
            "dtypes: float64(1), int64(19)\n",
            "memory usage: 76.3 MB\n",
            "<class 'pandas.core.frame.DataFrame'>\n",
            "RangeIndex: 500000 entries, 0 to 499999\n",
            "Data columns (total 1 columns):\n",
            " #   Column  Non-Null Count   Dtype \n",
            "---  ------  --------------   ----- \n",
            " 0   class   500000 non-null  object\n",
            "dtypes: object(1)\n",
            "memory usage: 3.8+ MB\n"
          ]
        }
      ]
    },
    {
      "cell_type": "code",
      "source": [
        "#df_obj= pd.get_dummies(df_obj, drop_first=True)\n",
        "#print(df_obj['class'].value_counts())\n",
        "#sns.countplot(data=df_obj, x='class')\n",
        "#df_obj.head()\n",
        "A = df.drop(columns=['class'],axis=1)\n",
        "b = df['class']\n",
        "A_train, A_test, b_train, b_test = train_test_split(A, b, test_size=0.3, random_state=5)"
      ],
      "metadata": {
        "id": "g_Tqo49Zlnu-"
      },
      "execution_count": null,
      "outputs": []
    },
    {
      "cell_type": "code",
      "source": [
        "model = RandomForestClassifier(n_estimators=100,random_state=8)\n",
        "model.fit(A_train,b_train)\n",
        "b_pred = model.predict(A_test)\n"
      ],
      "metadata": {
        "id": "xfE27nVZv-c8"
      },
      "execution_count": null,
      "outputs": []
    },
    {
      "cell_type": "code",
      "source": [
        "print(f\"Accuracy= {accuracy_score(b_test,b_pred)}\")\n",
        "cm = confusion_matrix(b_test,b_pred)\n",
        "print(confusion_matrix(b_test,b_pred))\n",
        "print(classification_report(b_test,b_pred))"
      ],
      "metadata": {
        "id": "dzduEB7vwbxo",
        "colab": {
          "base_uri": "https://localhost:8080/"
        },
        "outputId": "ef37fccc-e8f8-4ade-e4c8-484d21d6a8c9"
      },
      "execution_count": null,
      "outputs": [
        {
          "output_type": "stream",
          "name": "stdout",
          "text": [
            "Accuracy= 0.99932\n",
            "[[ 14961     65]\n",
            " [    37 134937]]\n",
            "              precision    recall  f1-score   support\n",
            "\n",
            "      Benign       1.00      1.00      1.00     15026\n",
            "   Malicious       1.00      1.00      1.00    134974\n",
            "\n",
            "    accuracy                           1.00    150000\n",
            "   macro avg       1.00      1.00      1.00    150000\n",
            "weighted avg       1.00      1.00      1.00    150000\n",
            "\n"
          ]
        }
      ]
    },
    {
      "cell_type": "code",
      "source": [
        "ax = plt.subplot()\n",
        "sns.heatmap(cm, annot=True, fmt='g', ax=ax);\n",
        "# labels, title and ticks\n",
        "ax.set_xlabel('Predicted labels');ax.set_ylabel('True labels');\n",
        "ax.set_title('Confusion Matrix');\n",
        "ax.xaxis.set_ticklabels(['Benign', 'Malicious'])\n",
        "ax.yaxis.set_ticklabels(['Benign', 'Malicious'])"
      ],
      "metadata": {
        "colab": {
          "base_uri": "https://localhost:8080/",
          "height": 489
        },
        "id": "bbfrxYz77pzD",
        "outputId": "efb3c966-9650-4fae-a2b7-e29c7002c161"
      },
      "execution_count": null,
      "outputs": [
        {
          "output_type": "execute_result",
          "data": {
            "text/plain": [
              "[Text(0, 0.5, 'Benign'), Text(0, 1.5, 'Malicious')]"
            ]
          },
          "metadata": {},
          "execution_count": 21
        },
        {
          "output_type": "display_data",
          "data": {
            "text/plain": [
              "<Figure size 640x480 with 2 Axes>"
            ],
            "image/png": "[encoded data removed]"
          },
          "metadata": {}
        }
      ]
    },
    {
      "cell_type": "code",
      "source": [
        "# Feature importance for Mean Decrease Accuracy\n",
        "mean_decrease_accuracy = model.feature_importances_\n",
        "print(f\"Mean Decrease Accuracy{ mean_decrease_accuracy}\")\n",
        "# # Feature importance for Mean Decrease GINI\n",
        "# # Note: GINI importance is specific to decision trees and random forests\n",
        "gini_importance = model.feature_importances_ * model.estimators_[0].tree_.impurity[0]\n",
        "print(f\"\\nMean Decrease GINI= {gini_importance}\")"
      ],
      "metadata": {
        "id": "vHbcAbEGxARe",
        "colab": {
          "base_uri": "https://localhost:8080/"
        },
        "outputId": "73219130-4255-432b-8488-194623998bb6"
      },
      "execution_count": null,
      "outputs": [
        {
          "output_type": "stream",
          "name": "stdout",
          "text": [
            "Mean Decrease Accuracy[5.97033043e-02 1.31881441e-01 3.34726333e-02 2.04643794e-03\n",
            " 7.30112275e-02 3.66478694e-02 1.10693467e-01 1.15531090e-01\n",
            " 3.24687667e-02 5.93412074e-03 7.68922446e-03 3.86987839e-05\n",
            " 1.73837384e-02 0.00000000e+00 2.47511020e-02 0.00000000e+00\n",
            " 7.00541984e-03 0.00000000e+00 3.41741459e-01 0.00000000e+00]\n",
            "\n",
            "Mean Decrease GINI= [1.07956905e-02 2.38471092e-02 6.05259948e-03 3.70041672e-04\n",
            " 1.32020601e-02 6.62675306e-03 2.00158503e-02 2.08906007e-02\n",
            " 5.87107798e-03 1.07302153e-03 1.39038347e-03 6.99760420e-06\n",
            " 3.14336805e-03 0.00000000e+00 4.47555189e-03 0.00000000e+00\n",
            " 1.26673633e-03 0.00000000e+00 6.17944862e-02 0.00000000e+00]\n"
          ]
        }
      ]
    },
    {
      "cell_type": "code",
      "source": [
        "plt.figure(figsize=(10, 6))\n",
        "plt.barh(range(len(mean_decrease_accuracy)), mean_decrease_accuracy, align='center')\n",
        "plt.yticks(range(len(mean_decrease_accuracy)), A.columns)\n",
        "plt.xlabel('Mean Decrease Accuracy')\n",
        "plt.title('Feature Importance - Mean Decrease Accuracy')\n",
        "plt.show()\n",
        "plt.figure(figsize=(10, 6))\n",
        "plt.barh(range(len(gini_importance)), gini_importance, align='center')\n",
        "plt.yticks(range(len(gini_importance)), A.columns)\n",
        "plt.xlabel('Mean Decrease GINI')\n",
        "plt.title('Feature Importance - Mean Decrease GINI')\n",
        "plt.show()"
      ],
      "metadata": {
        "id": "TveDdVipyzjI",
        "colab": {
          "base_uri": "https://localhost:8080/",
          "height": 765
        },
        "outputId": "85c1dec6-86b0-4726-95e3-1b7fc1adf5de"
      },
      "execution_count": null,
      "outputs": [
        {
          "output_type": "display_data",
          "data": {
            "text/plain": [
              "<Figure size 1000x600 with 1 Axes>"
            ],
            "image/png": "[encoded data removed]"
          },
          "metadata": {}
        },
        {
          "output_type": "display_data",
          "data": {
            "text/plain": [
              "<Figure size 1000x600 with 1 Axes>"
            ],
            "image/png": "[encoded data removed]"
          },
          "metadata": {}
        }
      ]
    },
    {
      "cell_type": "code",
      "source": [
        "feature_scores = pd.Series(model.feature_importances_, index=A.columns).sort_values(ascending=False)\n",
        "\n",
        "print(feature_scores)"
      ],
      "metadata": {
        "id": "njsBXS7QzFI4",
        "colab": {
          "base_uri": "https://localhost:8080/"
        },
        "outputId": "58c5fd2a-ad31-4878-f085-34fbb3619b97"
      },
      "execution_count": null,
      "outputs": [
        {
          "output_type": "stream",
          "name": "stdout",
          "text": [
            "Acroform            0.341741\n",
            "pages               0.131881\n",
            "endstream           0.115531\n",
            "stream              0.110693\n",
            "obj                 0.073011\n",
            "pdfsize             0.059703\n",
            "endobj              0.036648\n",
            "title characters    0.033473\n",
            "xref                0.032469\n",
            "Javascript          0.024751\n",
            "JS                  0.017384\n",
            "startxref           0.007689\n",
            "OpenAction          0.007005\n",
            "trailer             0.005934\n",
            "images              0.002046\n",
            "ObjStm              0.000039\n",
            "OBS_JS              0.000000\n",
            "OBS_Javascript      0.000000\n",
            "OBS_OpenAction      0.000000\n",
            "OBS_Acroform        0.000000\n",
            "dtype: float64\n"
          ]
        }
      ]
    },
    {
      "cell_type": "code",
      "source": [
        "df.head()"
      ],
      "metadata": {
        "id": "YD8qN_IU3E3R",
        "colab": {
          "base_uri": "https://localhost:8080/",
          "height": 273
        },
        "outputId": "389fbf95-3061-4a09-8502-c0f828b13a38"
      },
      "execution_count": null,
      "outputs": [
        {
          "output_type": "execute_result",
          "data": {
            "text/plain": [
              "   pdfsize  pages  title characters  images  obj  endobj  stream  endstream  \\\n",
              "0  644.326     70                 0       1  348     351     128        128   \n",
              "1  648.050     68                 0       1  348     345     124        124   \n",
              "2  696.506     68                 0       1  353     353     128        125   \n",
              "3  715.926     68                 0       0  759     667     250        192   \n",
              "4  707.102     70                10       2  388     373     141        138   \n",
              "\n",
              "   xref  trailer  ...  ObjStm  JS  OBS_JS  Javascript  OBS_Javascript  \\\n",
              "0     1        1  ...       0   1       0           1               0   \n",
              "1     1        1  ...       0   1       0           1               0   \n",
              "2     1        1  ...       0   1       0           1               0   \n",
              "3     1        1  ...       0   1       0           1               0   \n",
              "4     1        1  ...       0   1       0           1               0   \n",
              "\n",
              "   OpenAction  OBS_OpenAction  Acroform  OBS_Acroform      class  \n",
              "0           1               0         1             0  Malicious  \n",
              "1           0               0         1             0  Malicious  \n",
              "2           0               0         1             0  Malicious  \n",
              "3           1               0         1             0  Malicious  \n",
              "4           1               0         1             0  Malicious  \n",
              "\n",
              "[5 rows x 21 columns]"
            ],
            "text/html": [
              "\n",
              "  <div id=\"df-04863a1d-653d-4881-aff5-35335e212a35\" class=\"colab-df-container\">\n",
              "    <div>\n",
              "<style scoped>\n",
              "    .dataframe tbody tr th:only-of-type {\n",
              "        vertical-align: middle;\n",
              "    }\n",
              "\n",
              "    .dataframe tbody tr th {\n",
              "        vertical-align: top;\n",
              "    }\n",
              "\n",
              "    .dataframe thead th {\n",
              "        text-align: right;\n",
              "    }\n",
              "</style>\n",
              "<table border=\"1\" class=\"dataframe\">\n",
              "  <thead>\n",
              "    <tr style=\"text-align: right;\">\n",
              "      <th></th>\n",
              "      <th>pdfsize</th>\n",
              "      <th>pages</th>\n",
              "      <th>title characters</th>\n",
              "      <th>images</th>\n",
              "      <th>obj</th>\n",
              "      <th>endobj</th>\n",
              "      <th>stream</th>\n",
              "      <th>endstream</th>\n",
              "      <th>xref</th>\n",
              "      <th>trailer</th>\n",
              "      <th>...</th>\n",
              "      <th>ObjStm</th>\n",
              "      <th>JS</th>\n",
              "      <th>OBS_JS</th>\n",
              "      <th>Javascript</th>\n",
              "      <th>OBS_Javascript</th>\n",
              "      <th>OpenAction</th>\n",
              "      <th>OBS_OpenAction</th>\n",
              "      <th>Acroform</th>\n",
              "      <th>OBS_Acroform</th>\n",
              "      <th>class</th>\n",
              "    </tr>\n",
              "  </thead>\n",
              "  <tbody>\n",
              "    <tr>\n",
              "      <th>0</th>\n",
              "      <td>644.326</td>\n",
              "      <td>70</td>\n",
              "      <td>0</td>\n",
              "      <td>1</td>\n",
              "      <td>348</td>\n",
              "      <td>351</td>\n",
              "      <td>128</td>\n",
              "      <td>128</td>\n",
              "      <td>1</td>\n",
              "      <td>1</td>\n",
              "      <td>...</td>\n",
              "      <td>0</td>\n",
              "      <td>1</td>\n",
              "      <td>0</td>\n",
              "      <td>1</td>\n",
              "      <td>0</td>\n",
              "      <td>1</td>\n",
              "      <td>0</td>\n",
              "      <td>1</td>\n",
              "      <td>0</td>\n",
              "      <td>Malicious</td>\n",
              "    </tr>\n",
              "    <tr>\n",
              "      <th>1</th>\n",
              "      <td>648.050</td>\n",
              "      <td>68</td>\n",
              "      <td>0</td>\n",
              "      <td>1</td>\n",
              "      <td>348</td>\n",
              "      <td>345</td>\n",
              "      <td>124</td>\n",
              "      <td>124</td>\n",
              "      <td>1</td>\n",
              "      <td>1</td>\n",
              "      <td>...</td>\n",
              "      <td>0</td>\n",
              "      <td>1</td>\n",
              "      <td>0</td>\n",
              "      <td>1</td>\n",
              "      <td>0</td>\n",
              "      <td>0</td>\n",
              "      <td>0</td>\n",
              "      <td>1</td>\n",
              "      <td>0</td>\n",
              "      <td>Malicious</td>\n",
              "    </tr>\n",
              "    <tr>\n",
              "      <th>2</th>\n",
              "      <td>696.506</td>\n",
              "      <td>68</td>\n",
              "      <td>0</td>\n",
              "      <td>1</td>\n",
              "      <td>353</td>\n",
              "      <td>353</td>\n",
              "      <td>128</td>\n",
              "      <td>125</td>\n",
              "      <td>1</td>\n",
              "      <td>1</td>\n",
              "      <td>...</td>\n",
              "      <td>0</td>\n",
              "      <td>1</td>\n",
              "      <td>0</td>\n",
              "      <td>1</td>\n",
              "      <td>0</td>\n",
              "      <td>0</td>\n",
              "      <td>0</td>\n",
              "      <td>1</td>\n",
              "      <td>0</td>\n",
              "      <td>Malicious</td>\n",
              "    </tr>\n",
              "    <tr>\n",
              "      <th>3</th>\n",
              "      <td>715.926</td>\n",
              "      <td>68</td>\n",
              "      <td>0</td>\n",
              "      <td>0</td>\n",
              "      <td>759</td>\n",
              "      <td>667</td>\n",
              "      <td>250</td>\n",
              "      <td>192</td>\n",
              "      <td>1</td>\n",
              "      <td>1</td>\n",
              "      <td>...</td>\n",
              "      <td>0</td>\n",
              "      <td>1</td>\n",
              "      <td>0</td>\n",
              "      <td>1</td>\n",
              "      <td>0</td>\n",
              "      <td>1</td>\n",
              "      <td>0</td>\n",
              "      <td>1</td>\n",
              "      <td>0</td>\n",
              "      <td>Malicious</td>\n",
              "    </tr>\n",
              "    <tr>\n",
              "      <th>4</th>\n",
              "      <td>707.102</td>\n",
              "      <td>70</td>\n",
              "      <td>10</td>\n",
              "      <td>2</td>\n",
              "      <td>388</td>\n",
              "      <td>373</td>\n",
              "      <td>141</td>\n",
              "      <td>138</td>\n",
              "      <td>1</td>\n",
              "      <td>1</td>\n",
              "      <td>...</td>\n",
              "      <td>0</td>\n",
              "      <td>1</td>\n",
              "      <td>0</td>\n",
              "      <td>1</td>\n",
              "      <td>0</td>\n",
              "      <td>1</td>\n",
              "      <td>0</td>\n",
              "      <td>1</td>\n",
              "      <td>0</td>\n",
              "      <td>Malicious</td>\n",
              "    </tr>\n",
              "  </tbody>\n",
              "</table>\n",
              "<p>5 rows × 21 columns</p>\n",
              "</div>\n",
              "    <div class=\"colab-df-buttons\">\n",
              "\n",
              "  <div class=\"colab-df-container\">\n",
              "    <button class=\"colab-df-convert\" onclick=\"convertToInteractive('df-04863a1d-653d-4881-aff5-35335e212a35')\"\n",
              "            title=\"Convert this dataframe to an interactive table.\"\n",
              "            style=\"display:none;\">\n",
              "\n",
              "  <svg xmlns=\"http://www.w3.org/2000/svg\" height=\"24px\" viewBox=\"0 -960 960 960\">\n",
              "    <path d=\"M120-120v-720h720v720H120Zm60-500h600v-160H180v160Zm220 220h160v-160H400v160Zm0 220h160v-160H400v160ZM180-400h160v-160H180v160Zm440 0h160v-160H620v160ZM180-180h160v-160H180v160Zm440 0h160v-160H620v160Z\"/>\n",
              "  </svg>\n",
              "    </button>\n",
              "\n",
              "  <style>\n",
              "    .colab-df-container {\n",
              "      display:flex;\n",
              "      gap: 12px;\n",
              "    }\n",
              "\n",
              "    .colab-df-convert {\n",
              "      background-color: #E8F0FE;\n",
              "      border: none;\n",
              "      border-radius: 50%;\n",
              "      cursor: pointer;\n",
              "      display: none;\n",
              "      fill: #1967D2;\n",
              "      height: 32px;\n",
              "      padding: 0 0 0 0;\n",
              "      width: 32px;\n",
              "    }\n",
              "\n",
              "    .colab-df-convert:hover {\n",
              "      background-color: #E2EBFA;\n",
              "      box-shadow: 0px 1px 2px rgba(60, 64, 67, 0.3), 0px 1px 3px 1px rgba(60, 64, 67, 0.15);\n",
              "      fill: #174EA6;\n",
              "    }\n",
              "\n",
              "    .colab-df-buttons div {\n",
              "      margin-bottom: 4px;\n",
              "    }\n",
              "\n",
              "    [theme=dark] .colab-df-convert {\n",
              "      background-color: #3B4455;\n",
              "      fill: #D2E3FC;\n",
              "    }\n",
              "\n",
              "    [theme=dark] .colab-df-convert:hover {\n",
              "      background-color: #434B5C;\n",
              "      box-shadow: 0px 1px 3px 1px rgba(0, 0, 0, 0.15);\n",
              "      filter: drop-shadow(0px 1px 2px rgba(0, 0, 0, 0.3));\n",
              "      fill: #FFFFFF;\n",
              "    }\n",
              "  </style>\n",
              "\n",
              "    <script>\n",
              "      const buttonEl =\n",
              "        document.querySelector('#df-04863a1d-653d-4881-aff5-35335e212a35 button.colab-df-convert');\n",
              "      buttonEl.style.display =\n",
              "        google.colab.kernel.accessAllowed ? 'block' : 'none';\n",
              "\n",
              "      async function convertToInteractive(key) {\n",
              "        const element = document.querySelector('#df-04863a1d-653d-4881-aff5-35335e212a35');\n",
              "        const dataTable =\n",
              "          await google.colab.kernel.invokeFunction('convertToInteractive',\n",
              "                                                    [key], {});\n",
              "        if (!dataTable) return;\n",
              "\n",
              "        const docLinkHtml = 'Like what you see? Visit the ' +\n",
              "          '<a target=\"_blank\" href=https://colab.research.google.com/notebooks/data_table.ipynb>data table notebook</a>'\n",
              "          + ' to learn more about interactive tables.';\n",
              "        element.innerHTML = '';\n",
              "        dataTable['output_type'] = 'display_data';\n",
              "        await google.colab.output.renderOutput(dataTable, element);\n",
              "        const docLink = document.createElement('div');\n",
              "        docLink.innerHTML = docLinkHtml;\n",
              "        element.appendChild(docLink);\n",
              "      }\n",
              "    </script>\n",
              "  </div>\n",
              "\n",
              "\n",
              "<div id=\"df-c42aea1d-8d93-4d05-b0eb-f81676ed0ab0\">\n",
              "  <button class=\"colab-df-quickchart\" onclick=\"quickchart('df-c42aea1d-8d93-4d05-b0eb-f81676ed0ab0')\"\n",
              "            title=\"Suggest charts\"\n",
              "            style=\"display:none;\">\n",
              "\n",
              "<svg xmlns=\"http://www.w3.org/2000/svg\" height=\"24px\"viewBox=\"0 0 24 24\"\n",
              "     width=\"24px\">\n",
              "    <g>\n",
              "        <path d=\"M19 3H5c-1.1 0-2 .9-2 2v14c0 1.1.9 2 2 2h14c1.1 0 2-.9 2-2V5c0-1.1-.9-2-2-2zM9 17H7v-7h2v7zm4 0h-2V7h2v10zm4 0h-2v-4h2v4z\"/>\n",
              "    </g>\n",
              "</svg>\n",
              "  </button>\n",
              "\n",
              "<style>\n",
              "  .colab-df-quickchart {\n",
              "      --bg-color: #E8F0FE;\n",
              "      --fill-color: #1967D2;\n",
              "      --hover-bg-color: #E2EBFA;\n",
              "      --hover-fill-color: #174EA6;\n",
              "      --disabled-fill-color: #AAA;\n",
              "      --disabled-bg-color: #DDD;\n",
              "  }\n",
              "\n",
              "  [theme=dark] .colab-df-quickchart {\n",
              "      --bg-color: #3B4455;\n",
              "      --fill-color: #D2E3FC;\n",
              "      --hover-bg-color: #434B5C;\n",
              "      --hover-fill-color: #FFFFFF;\n",
              "      --disabled-bg-color: #3B4455;\n",
              "      --disabled-fill-color: #666;\n",
              "  }\n",
              "\n",
              "  .colab-df-quickchart {\n",
              "    background-color: var(--bg-color);\n",
              "    border: none;\n",
              "    border-radius: 50%;\n",
              "    cursor: pointer;\n",
              "    display: none;\n",
              "    fill: var(--fill-color);\n",
              "    height: 32px;\n",
              "    padding: 0;\n",
              "    width: 32px;\n",
              "  }\n",
              "\n",
              "  .colab-df-quickchart:hover {\n",
              "    background-color: var(--hover-bg-color);\n",
              "    box-shadow: 0 1px 2px rgba(60, 64, 67, 0.3), 0 1px 3px 1px rgba(60, 64, 67, 0.15);\n",
              "    fill: var(--button-hover-fill-color);\n",
              "  }\n",
              "\n",
              "  .colab-df-quickchart-complete:disabled,\n",
              "  .colab-df-quickchart-complete:disabled:hover {\n",
              "    background-color: var(--disabled-bg-color);\n",
              "    fill: var(--disabled-fill-color);\n",
              "    box-shadow: none;\n",
              "  }\n",
              "\n",
              "  .colab-df-spinner {\n",
              "    border: 2px solid var(--fill-color);\n",
              "    border-color: transparent;\n",
              "    border-bottom-color: var(--fill-color);\n",
              "    animation:\n",
              "      spin 1s steps(1) infinite;\n",
              "  }\n",
              "\n",
              "  @keyframes spin {\n",
              "    0% {\n",
              "      border-color: transparent;\n",
              "      border-bottom-color: var(--fill-color);\n",
              "      border-left-color: var(--fill-color);\n",
              "    }\n",
              "    20% {\n",
              "      border-color: transparent;\n",
              "      border-left-color: var(--fill-color);\n",
              "      border-top-color: var(--fill-color);\n",
              "    }\n",
              "    30% {\n",
              "      border-color: transparent;\n",
              "      border-left-color: var(--fill-color);\n",
              "      border-top-color: var(--fill-color);\n",
              "      border-right-color: var(--fill-color);\n",
              "    }\n",
              "    40% {\n",
              "      border-color: transparent;\n",
              "      border-right-color: var(--fill-color);\n",
              "      border-top-color: var(--fill-color);\n",
              "    }\n",
              "    60% {\n",
              "      border-color: transparent;\n",
              "      border-right-color: var(--fill-color);\n",
              "    }\n",
              "    80% {\n",
              "      border-color: transparent;\n",
              "      border-right-color: var(--fill-color);\n",
              "      border-bottom-color: var(--fill-color);\n",
              "    }\n",
              "    90% {\n",
              "      border-color: transparent;\n",
              "      border-bottom-color: var(--fill-color);\n",
              "    }\n",
              "  }\n",
              "</style>\n",
              "\n",
              "  <script>\n",
              "    async function quickchart(key) {\n",
              "      const quickchartButtonEl =\n",
              "        document.querySelector('#' + key + ' button');\n",
              "      quickchartButtonEl.disabled = true;  // To prevent multiple clicks.\n",
              "      quickchartButtonEl.classList.add('colab-df-spinner');\n",
              "      try {\n",
              "        const charts = await google.colab.kernel.invokeFunction(\n",
              "            'suggestCharts', [key], {});\n",
              "      } catch (error) {\n",
              "        console.error('Error during call to suggestCharts:', error);\n",
              "      }\n",
              "      quickchartButtonEl.classList.remove('colab-df-spinner');\n",
              "      quickchartButtonEl.classList.add('colab-df-quickchart-complete');\n",
              "    }\n",
              "    (() => {\n",
              "      let quickchartButtonEl =\n",
              "        document.querySelector('#df-c42aea1d-8d93-4d05-b0eb-f81676ed0ab0 button');\n",
              "      quickchartButtonEl.style.display =\n",
              "        google.colab.kernel.accessAllowed ? 'block' : 'none';\n",
              "    })();\n",
              "  </script>\n",
              "</div>\n",
              "    </div>\n",
              "  </div>\n"
            ],
            "application/vnd.google.colaboratory.intrinsic+json": {
              "type": "dataframe",
              "variable_name": "df"
            }
          },
          "metadata": {},
          "execution_count": 25
        }
      ]
    },
    {
      "cell_type": "markdown",
      "source": [
        "# CART"
      ],
      "metadata": {
        "id": "PmPTh4ja2-oV"
      }
    },
    {
      "cell_type": "code",
      "source": [
        "df.head()\n",
        "\n",
        "X = df.iloc[:, 1:-1] # Features (excluding the 'class' column)\n",
        "y = df['class']  # Target variable\n",
        "\n",
        "# Splitting the data into 70% train and 30% test\n",
        "X_train, X_test, y_train, y_test = train_test_split(X, y, test_size=0.3, random_state=123)"
      ],
      "metadata": {
        "id": "Oo5-C_Ln5UTY"
      },
      "execution_count": null,
      "outputs": []
    },
    {
      "cell_type": "code",
      "source": [
        "# Implementing CART (Decision Tree)\n",
        "cart = DecisionTreeClassifier(criterion='gini')\n",
        "cart.fit(X_train, y_train)"
      ],
      "metadata": {
        "id": "-wducE2b5x2l",
        "colab": {
          "base_uri": "https://localhost:8080/",
          "height": 74
        },
        "outputId": "fcf6f6cf-9799-49df-ee67-44a2fa080d88"
      },
      "execution_count": null,
      "outputs": [
        {
          "output_type": "execute_result",
          "data": {
            "text/plain": [
              "DecisionTreeClassifier()"
            ],
            "text/html": [
              "<style>#sk-container-id-1 {color: black;background-color: white;}#sk-container-id-1 pre{padding: 0;}#sk-container-id-1 div.sk-toggleable {background-color: white;}#sk-container-id-1 label.sk-toggleable__label {cursor: pointer;display: block;width: 100%;margin-bottom: 0;padding: 0.3em;box-sizing: border-box;text-align: center;}#sk-container-id-1 label.sk-toggleable__label-arrow:before {content: \"▸\";float: left;margin-right: 0.25em;color: #696969;}#sk-container-id-1 label.sk-toggleable__label-arrow:hover:before {color: black;}#sk-container-id-1 div.sk-estimator:hover label.sk-toggleable__label-arrow:before {color: black;}#sk-container-id-1 div.sk-toggleable__content {max-height: 0;max-width: 0;overflow: hidden;text-align: left;background-color: #f0f8ff;}#sk-container-id-1 div.sk-toggleable__content pre {margin: 0.2em;color: black;border-radius: 0.25em;background-color: #f0f8ff;}#sk-container-id-1 input.sk-toggleable__control:checked~div.sk-toggleable__content {max-height: 200px;max-width: 100%;overflow: auto;}#sk-container-id-1 input.sk-toggleable__control:checked~label.sk-toggleable__label-arrow:before {content: \"▾\";}#sk-container-id-1 div.sk-estimator input.sk-toggleable__control:checked~label.sk-toggleable__label {background-color: #d4ebff;}#sk-container-id-1 div.sk-label input.sk-toggleable__control:checked~label.sk-toggleable__label {background-color: #d4ebff;}#sk-container-id-1 input.sk-hidden--visually {border: 0;clip: rect(1px 1px 1px 1px);clip: rect(1px, 1px, 1px, 1px);height: 1px;margin: -1px;overflow: hidden;padding: 0;position: absolute;width: 1px;}#sk-container-id-1 div.sk-estimator {font-family: monospace;background-color: #f0f8ff;border: 1px dotted black;border-radius: 0.25em;box-sizing: border-box;margin-bottom: 0.5em;}#sk-container-id-1 div.sk-estimator:hover {background-color: #d4ebff;}#sk-container-id-1 div.sk-parallel-item::after {content: \"\";width: 100%;border-bottom: 1px solid gray;flex-grow: 1;}#sk-container-id-1 div.sk-label:hover label.sk-toggleable__label {background-color: #d4ebff;}#sk-container-id-1 div.sk-serial::before {content: \"\";position: absolute;border-left: 1px solid gray;box-sizing: border-box;top: 0;bottom: 0;left: 50%;z-index: 0;}#sk-container-id-1 div.sk-serial {display: flex;flex-direction: column;align-items: center;background-color: white;padding-right: 0.2em;padding-left: 0.2em;position: relative;}#sk-container-id-1 div.sk-item {position: relative;z-index: 1;}#sk-container-id-1 div.sk-parallel {display: flex;align-items: stretch;justify-content: center;background-color: white;position: relative;}#sk-container-id-1 div.sk-item::before, #sk-container-id-1 div.sk-parallel-item::before {content: \"\";position: absolute;border-left: 1px solid gray;box-sizing: border-box;top: 0;bottom: 0;left: 50%;z-index: -1;}#sk-container-id-1 div.sk-parallel-item {display: flex;flex-direction: column;z-index: 1;position: relative;background-color: white;}#sk-container-id-1 div.sk-parallel-item:first-child::after {align-self: flex-end;width: 50%;}#sk-container-id-1 div.sk-parallel-item:last-child::after {align-self: flex-start;width: 50%;}#sk-container-id-1 div.sk-parallel-item:only-child::after {width: 0;}#sk-container-id-1 div.sk-dashed-wrapped {border: 1px dashed gray;margin: 0 0.4em 0.5em 0.4em;box-sizing: border-box;padding-bottom: 0.4em;background-color: white;}#sk-container-id-1 div.sk-label label {font-family: monospace;font-weight: bold;display: inline-block;line-height: 1.2em;}#sk-container-id-1 div.sk-label-container {text-align: center;}#sk-container-id-1 div.sk-container {/* jupyter's `normalize.less` sets `[hidden] { display: none; }` but bootstrap.min.css set `[hidden] { display: none !important; }` so we also need the `!important` here to be able to override the default hidden behavior on the sphinx rendered scikit-learn.org. See: https://github.com/scikit-learn/scikit-learn/issues/21755 */display: inline-block !important;position: relative;}#sk-container-id-1 div.sk-text-repr-fallback {display: none;}</style><div id=\"sk-container-id-1\" class=\"sk-top-container\"><div class=\"sk-text-repr-fallback\"><pre>DecisionTreeClassifier()</pre><b>In a Jupyter environment, please rerun this cell to show the HTML representation or trust the notebook. <br />On GitHub, the HTML representation is unable to render, please try loading this page with nbviewer.org.</b></div><div class=\"sk-container\" hidden><div class=\"sk-item\"><div class=\"sk-estimator sk-toggleable\"><input class=\"sk-toggleable__control sk-hidden--visually\" id=\"sk-estimator-id-1\" type=\"checkbox\" checked><label for=\"sk-estimator-id-1\" class=\"sk-toggleable__label sk-toggleable__label-arrow\">DecisionTreeClassifier</label><div class=\"sk-toggleable__content\"><pre>DecisionTreeClassifier()</pre></div></div></div></div></div>"
            ]
          },
          "metadata": {},
          "execution_count": 27
        }
      ]
    },
    {
      "cell_type": "code",
      "source": [
        "# Predicting class for the test set\n",
        "predict_dt = cart.predict(X_test)\n",
        "print(len(predict_dt))\n",
        "print(len(y_test))"
      ],
      "metadata": {
        "id": "-lxn691f52kq",
        "colab": {
          "base_uri": "https://localhost:8080/"
        },
        "outputId": "295f6c90-d14a-481b-d814-aeec549c4b94"
      },
      "execution_count": null,
      "outputs": [
        {
          "output_type": "stream",
          "name": "stdout",
          "text": [
            "150000\n",
            "150000\n"
          ]
        }
      ]
    },
    {
      "cell_type": "code",
      "source": [
        "# Creating confusion matrix\n",
        "conf_matrix = confusion_matrix(predict_dt, y_test)\n",
        "print(conf_matrix)"
      ],
      "metadata": {
        "id": "n5ycvUgz6AvM",
        "colab": {
          "base_uri": "https://localhost:8080/"
        },
        "outputId": "16cdf106-ed48-48f1-8450-0bc97a550c19"
      },
      "execution_count": null,
      "outputs": [
        {
          "output_type": "stream",
          "name": "stdout",
          "text": [
            "[[ 14771    108]\n",
            " [   113 135008]]\n"
          ]
        }
      ]
    },
    {
      "cell_type": "code",
      "source": [
        "# Checking model accuracy\n",
        "accuracy = accuracy_score(predict_dt, y_test)\n",
        "print(accuracy)"
      ],
      "metadata": {
        "id": "jVx10cW254Al",
        "colab": {
          "base_uri": "https://localhost:8080/"
        },
        "outputId": "605d0fd6-4f37-4ea0-8490-0a9460ef97e9"
      },
      "execution_count": null,
      "outputs": [
        {
          "output_type": "stream",
          "name": "stdout",
          "text": [
            "0.9985266666666667\n"
          ]
        }
      ]
    },
    {
      "cell_type": "code",
      "source": [
        "# Error rate\n",
        "error_rate = 1.0 - accuracy\n",
        "print(error_rate)\n",
        "\n",
        "predictions = cart.predict(X_test)"
      ],
      "metadata": {
        "id": "NWrfsacc6DCR",
        "colab": {
          "base_uri": "https://localhost:8080/"
        },
        "outputId": "3b6315f5-9688-42d5-d823-78c3c995d0ee"
      },
      "execution_count": null,
      "outputs": [
        {
          "output_type": "stream",
          "name": "stdout",
          "text": [
            "0.0014733333333333265\n"
          ]
        }
      ]
    },
    {
      "cell_type": "code",
      "source": [
        "# Evaluate Model (Model Accuracy, Conf. Matrix and Classification Report)\n",
        "\n",
        "print(\"Accuracy:\", accuracy_score(predict_dt, y_test))\n",
        "print()\n",
        "print(\"Confusion Matrix:\\n\", confusion_matrix(predict_dt, y_test))\n",
        "print()\n",
        "print(\"Classification Report:\\n\", classification_report(y_test, predictions))"
      ],
      "metadata": {
        "id": "xp8lGTYk6d5m",
        "colab": {
          "base_uri": "https://localhost:8080/"
        },
        "outputId": "f375f37b-50e7-42db-a3db-60d00c32b4c9"
      },
      "execution_count": null,
      "outputs": [
        {
          "output_type": "stream",
          "name": "stdout",
          "text": [
            "Accuracy: 0.9985266666666667\n",
            "\n",
            "Confusion Matrix:\n",
            " [[ 14771    108]\n",
            " [   113 135008]]\n",
            "\n",
            "Classification Report:\n",
            "               precision    recall  f1-score   support\n",
            "\n",
            "      Benign       0.99      0.99      0.99     14884\n",
            "   Malicious       1.00      1.00      1.00    135116\n",
            "\n",
            "    accuracy                           1.00    150000\n",
            "   macro avg       1.00      1.00      1.00    150000\n",
            "weighted avg       1.00      1.00      1.00    150000\n",
            "\n"
          ]
        }
      ]
    },
    {
      "cell_type": "markdown",
      "source": [
        "# SVM"
      ],
      "metadata": {
        "id": "_VBabzeG3AiZ"
      }
    },
    {
      "cell_type": "code",
      "source": [
        "df.head()\n",
        "\n",
        "# Splitting the dataset into features and target variable\n",
        "X = df.drop('class', axis=1)\n",
        "y = df['class']"
      ],
      "metadata": {
        "id": "XiE261YY3OSY"
      },
      "execution_count": null,
      "outputs": []
    },
    {
      "cell_type": "code",
      "source": [
        "# Splitting the data into 70% train and 30% test\n",
        "X_train, X_test, y_train, y_test = train_test_split(X, y, test_size=0.3, random_state=42)"
      ],
      "metadata": {
        "id": "OFu-WTI_9CIC"
      },
      "execution_count": null,
      "outputs": []
    },
    {
      "cell_type": "code",
      "source": [
        "# Standardizing the features\n",
        "scaler = StandardScaler()\n",
        "X_train = scaler.fit_transform(X_train)\n",
        "X_test = scaler.transform(X_test)"
      ],
      "metadata": {
        "id": "1kbCNJNw9Jbu"
      },
      "execution_count": null,
      "outputs": []
    },
    {
      "cell_type": "code",
      "source": [
        "# Model Training\n",
        "svm_model = SVC()\n",
        "svm_model.fit(X_train, y_train)"
      ],
      "metadata": {
        "id": "jAd30wIj9MOD",
        "colab": {
          "base_uri": "https://localhost:8080/",
          "height": 74
        },
        "outputId": "9d6658d0-6823-40f4-b791-184ed47dedd3"
      },
      "execution_count": null,
      "outputs": [
        {
          "output_type": "execute_result",
          "data": {
            "text/plain": [
              "SVC()"
            ],
            "text/html": [
              "<style>#sk-container-id-2 {color: black;background-color: white;}#sk-container-id-2 pre{padding: 0;}#sk-container-id-2 div.sk-toggleable {background-color: white;}#sk-container-id-2 label.sk-toggleable__label {cursor: pointer;display: block;width: 100%;margin-bottom: 0;padding: 0.3em;box-sizing: border-box;text-align: center;}#sk-container-id-2 label.sk-toggleable__label-arrow:before {content: \"▸\";float: left;margin-right: 0.25em;color: #696969;}#sk-container-id-2 label.sk-toggleable__label-arrow:hover:before {color: black;}#sk-container-id-2 div.sk-estimator:hover label.sk-toggleable__label-arrow:before {color: black;}#sk-container-id-2 div.sk-toggleable__content {max-height: 0;max-width: 0;overflow: hidden;text-align: left;background-color: #f0f8ff;}#sk-container-id-2 div.sk-toggleable__content pre {margin: 0.2em;color: black;border-radius: 0.25em;background-color: #f0f8ff;}#sk-container-id-2 input.sk-toggleable__control:checked~div.sk-toggleable__content {max-height: 200px;max-width: 100%;overflow: auto;}#sk-container-id-2 input.sk-toggleable__control:checked~label.sk-toggleable__label-arrow:before {content: \"▾\";}#sk-container-id-2 div.sk-estimator input.sk-toggleable__control:checked~label.sk-toggleable__label {background-color: #d4ebff;}#sk-container-id-2 div.sk-label input.sk-toggleable__control:checked~label.sk-toggleable__label {background-color: #d4ebff;}#sk-container-id-2 input.sk-hidden--visually {border: 0;clip: rect(1px 1px 1px 1px);clip: rect(1px, 1px, 1px, 1px);height: 1px;margin: -1px;overflow: hidden;padding: 0;position: absolute;width: 1px;}#sk-container-id-2 div.sk-estimator {font-family: monospace;background-color: #f0f8ff;border: 1px dotted black;border-radius: 0.25em;box-sizing: border-box;margin-bottom: 0.5em;}#sk-container-id-2 div.sk-estimator:hover {background-color: #d4ebff;}#sk-container-id-2 div.sk-parallel-item::after {content: \"\";width: 100%;border-bottom: 1px solid gray;flex-grow: 1;}#sk-container-id-2 div.sk-label:hover label.sk-toggleable__label {background-color: #d4ebff;}#sk-container-id-2 div.sk-serial::before {content: \"\";position: absolute;border-left: 1px solid gray;box-sizing: border-box;top: 0;bottom: 0;left: 50%;z-index: 0;}#sk-container-id-2 div.sk-serial {display: flex;flex-direction: column;align-items: center;background-color: white;padding-right: 0.2em;padding-left: 0.2em;position: relative;}#sk-container-id-2 div.sk-item {position: relative;z-index: 1;}#sk-container-id-2 div.sk-parallel {display: flex;align-items: stretch;justify-content: center;background-color: white;position: relative;}#sk-container-id-2 div.sk-item::before, #sk-container-id-2 div.sk-parallel-item::before {content: \"\";position: absolute;border-left: 1px solid gray;box-sizing: border-box;top: 0;bottom: 0;left: 50%;z-index: -1;}#sk-container-id-2 div.sk-parallel-item {display: flex;flex-direction: column;z-index: 1;position: relative;background-color: white;}#sk-container-id-2 div.sk-parallel-item:first-child::after {align-self: flex-end;width: 50%;}#sk-container-id-2 div.sk-parallel-item:last-child::after {align-self: flex-start;width: 50%;}#sk-container-id-2 div.sk-parallel-item:only-child::after {width: 0;}#sk-container-id-2 div.sk-dashed-wrapped {border: 1px dashed gray;margin: 0 0.4em 0.5em 0.4em;box-sizing: border-box;padding-bottom: 0.4em;background-color: white;}#sk-container-id-2 div.sk-label label {font-family: monospace;font-weight: bold;display: inline-block;line-height: 1.2em;}#sk-container-id-2 div.sk-label-container {text-align: center;}#sk-container-id-2 div.sk-container {/* jupyter's `normalize.less` sets `[hidden] { display: none; }` but bootstrap.min.css set `[hidden] { display: none !important; }` so we also need the `!important` here to be able to override the default hidden behavior on the sphinx rendered scikit-learn.org. See: https://github.com/scikit-learn/scikit-learn/issues/21755 */display: inline-block !important;position: relative;}#sk-container-id-2 div.sk-text-repr-fallback {display: none;}</style><div id=\"sk-container-id-2\" class=\"sk-top-container\"><div class=\"sk-text-repr-fallback\"><pre>SVC()</pre><b>In a Jupyter environment, please rerun this cell to show the HTML representation or trust the notebook. <br />On GitHub, the HTML representation is unable to render, please try loading this page with nbviewer.org.</b></div><div class=\"sk-container\" hidden><div class=\"sk-item\"><div class=\"sk-estimator sk-toggleable\"><input class=\"sk-toggleable__control sk-hidden--visually\" id=\"sk-estimator-id-2\" type=\"checkbox\" checked><label for=\"sk-estimator-id-2\" class=\"sk-toggleable__label sk-toggleable__label-arrow\">SVC</label><div class=\"sk-toggleable__content\"><pre>SVC()</pre></div></div></div></div></div>"
            ]
          },
          "metadata": {},
          "execution_count": 36
        }
      ]
    },
    {
      "cell_type": "code",
      "source": [
        "# Model Evaluation\n",
        "y_pred = svm_model.predict(X_test)\n",
        "report = classification_report(y_test, y_pred)\n",
        "conf_matrix = confusion_matrix(y_test, y_pred)\n",
        "accuracy = accuracy_score(y_test, y_pred)\n",
        "\n",
        "#Print Accuracy\n",
        "print(\"Accuracy:\", accuracy)\n",
        "print()\n",
        "\n",
        "#report, conf_matrix\n",
        "print(\"Confusion Matrix:\\n\", conf_matrix)\n",
        "print()\n",
        "print(\"Classification Report:\\n\", report)\n"
      ],
      "metadata": {
        "id": "AZSD79xl9VBq"
      },
      "execution_count": null,
      "outputs": []
    },
    {
      "cell_type": "code",
      "source": [],
      "metadata": {
        "id": "lTeIfI5rGbb7"
      },
      "execution_count": null,
      "outputs": []
    }
  ]
}